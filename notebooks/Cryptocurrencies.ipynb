{
 "cells": [
  {
   "cell_type": "code",
   "execution_count": 1,
   "id": "2985e97e-9544-4332-b373-d8d5e0eb36a4",
   "metadata": {},
   "outputs": [],
   "source": [
    "import pandas as pd\n",
    "import matplotlib.pyplot as plt\n",
    "from adjustText import adjust_text"
   ]
  },
  {
   "cell_type": "code",
   "execution_count": 2,
   "id": "cfeb4c01-34ad-43af-b610-04450ce9a5c5",
   "metadata": {},
   "outputs": [],
   "source": [
    "df = pd.read_csv('../data/All_combined.csv', parse_dates=['Date'], dtype={'Currency_Name': pd.StringDtype()})"
   ]
  },
  {
   "cell_type": "markdown",
   "id": "30c03239-ac52-4fb9-8898-42d2ae6a0e0b",
   "metadata": {},
   "source": [
    "# Análise inicial"
   ]
  },
  {
   "cell_type": "markdown",
   "id": "3e04b7d4-9050-40f3-9ceb-a1571735498f",
   "metadata": {},
   "source": [
    "Não existem valores nulos entre os dados"
   ]
  },
  {
   "cell_type": "code",
   "execution_count": 3,
   "id": "d270dc43-f804-4bb2-946c-7f5ce0511b7a",
   "metadata": {},
   "outputs": [
    {
     "data": {
      "text/plain": [
       "False"
      ]
     },
     "execution_count": 3,
     "metadata": {},
     "output_type": "execute_result"
    }
   ],
   "source": [
    "df.isnull().values.any()"
   ]
  },
  {
   "cell_type": "markdown",
   "id": "26ac74cb-e276-4e15-b0bb-8de2be32edb0",
   "metadata": {},
   "source": [
    "O período de amostragem vai de 18 de julho de 2010 a 24 de agosto de 2021"
   ]
  },
  {
   "cell_type": "code",
   "execution_count": 4,
   "id": "f5836884-c157-4164-b242-539c2b0f19a4",
   "metadata": {},
   "outputs": [
    {
     "data": {
      "text/plain": [
       "Timestamp('2010-07-18 00:00:00')"
      ]
     },
     "execution_count": 4,
     "metadata": {},
     "output_type": "execute_result"
    }
   ],
   "source": [
    "df['Date'].min()"
   ]
  },
  {
   "cell_type": "code",
   "execution_count": 5,
   "id": "29ac1e26-1f57-461f-a0c2-92a96a388b05",
   "metadata": {},
   "outputs": [
    {
     "data": {
      "text/plain": [
       "Timestamp('2021-08-24 00:00:00')"
      ]
     },
     "execution_count": 5,
     "metadata": {},
     "output_type": "execute_result"
    }
   ],
   "source": [
    "df['Date'].max()"
   ]
  },
  {
   "cell_type": "markdown",
   "id": "5cb77aa2-4ec4-41fb-831c-c972c7a365c0",
   "metadata": {},
   "source": [
    "Lista das criptomoedas analisadas"
   ]
  },
  {
   "cell_type": "code",
   "execution_count": 6,
   "id": "853bcc91-c945-4a11-a8f3-1870dfffa907",
   "metadata": {},
   "outputs": [
    {
     "data": {
      "text/plain": [
       "<StringArray>\n",
       "[            'Aave',         'Algorand',        'Avalanche',\n",
       "    'Axie_Infinity',     'Binance_Coin',      'Binance_USD',\n",
       "          'Bitcoin',     'Bitcoin_BEP2',     'Bitcoin_Cash',\n",
       "       'Bitcoin_SV',       'BitTorrent',          'Cardano',\n",
       "        'Chainlink',           'Cosmos',  'Crypto.com_Coin',\n",
       "              'Dai',             'Dash',         'Dogecoin',\n",
       "           'Elrond',              'EOS',         'Ethereum',\n",
       " 'Ethereum_Classic',         'Filecoin',        'FTX_Token',\n",
       "              'GRT',              'ICP',             'IOTA',\n",
       "           'Klaytn',           'Kusama',              'LEO',\n",
       "         'Litecoin',            'Maker',           'Monero',\n",
       "              'Neo',      'PancakeSwap',         'Polkadot',\n",
       "          'Polygon',        'SHIBA_INU',           'Solana',\n",
       "          'Stellar',           'Tether',            'Tezos',\n",
       "            'THETA',             'Tron',          'Uniswap',\n",
       "         'USD_Coin',          'VeChain',            'Waves',\n",
       "             'WBTC',              'XPR']\n",
       "Length: 50, dtype: string"
      ]
     },
     "execution_count": 6,
     "metadata": {},
     "output_type": "execute_result"
    }
   ],
   "source": [
    "df['Currency_Name'].unique()"
   ]
  },
  {
   "cell_type": "markdown",
   "id": "14d10e24-5141-42a9-9acd-fcf3fb92452a",
   "metadata": {},
   "source": [
    "# Tarefas"
   ]
  },
  {
   "cell_type": "markdown",
   "id": "2d7b11d8-7421-41dd-9fbd-0d21eab3fc36",
   "metadata": {},
   "source": [
    "## Em qual dia houve maior alta e maior baixa?"
   ]
  },
  {
   "cell_type": "code",
   "execution_count": 7,
   "id": "2de59c00-63eb-4093-911a-ba2626aabd36",
   "metadata": {},
   "outputs": [],
   "source": [
    "change_by_currency = df.groupby('Currency_Name')['Change %']"
   ]
  },
  {
   "cell_type": "markdown",
   "id": "44c1c570-47f7-460e-b1d9-c633f94f3f38",
   "metadata": {
    "tags": []
   },
   "source": [
    "### Em qual período as valorizações se concentram?"
   ]
  },
  {
   "cell_type": "code",
   "execution_count": 8,
   "id": "55a10118-af76-47e7-8c2a-fdd713297714",
   "metadata": {},
   "outputs": [
    {
     "data": {
      "text/plain": [
       "<AxesSubplot:title={'center':'Histograma 1 - valorizações máximas de todo DataFrame'}>"
      ]
     },
     "execution_count": 8,
     "metadata": {},
     "output_type": "execute_result"
    },
    {
     "data": {
      "image/png": "[encoded data removed]",
      "text/plain": [
       "<Figure size 1080x360 with 1 Axes>"
      ]
     },
     "metadata": {
      "needs_background": "light"
     },
     "output_type": "display_data"
    }
   ],
   "source": [
    "plt.title(\"Histograma 1 - valorizações máximas de todo DataFrame\")\n",
    "df.loc[change_by_currency.idxmax(), 'Date'].hist(xrot=45, bins=100, figsize=(15, 5))"
   ]
  },
  {
   "cell_type": "markdown",
   "id": "d0484cf3-13f8-470c-8c7f-61d2d640a944",
   "metadata": {},
   "source": [
    "De acordo com o Histograma 1, existe uma concentração das altas no ano de 2021. Vamos analisar com mais detalhes esse período."
   ]
  },
  {
   "cell_type": "code",
   "execution_count": 9,
   "id": "f8310d7c-6081-429b-a9ba-69de77204d65",
   "metadata": {},
   "outputs": [],
   "source": [
    "grouped_change_2021 = df[df['Date'].dt.year == 2021].groupby('Currency_Name')['Change %']"
   ]
  },
  {
   "cell_type": "code",
   "execution_count": 10,
   "id": "179d12d9-5842-423b-9c9c-206524a2943a",
   "metadata": {},
   "outputs": [
    {
     "data": {
      "text/plain": [
       "<AxesSubplot:title={'center':'Histograma 2 - valorizações máximas de 2021'}>"
      ]
     },
     "execution_count": 10,
     "metadata": {},
     "output_type": "execute_result"
    },
    {
     "data": {
      "image/png": "[encoded data removed]",
      "text/plain": [
       "<Figure size 1080x360 with 1 Axes>"
      ]
     },
     "metadata": {
      "needs_background": "light"
     },
     "output_type": "display_data"
    }
   ],
   "source": [
    "plt.title('Histograma 2 - valorizações máximas de 2021')\n",
    "df.loc[grouped_change_2021.idxmax(), 'Date'].hist(xrot=45, bins=100, figsize=(15, 5))"
   ]
  },
  {
   "cell_type": "markdown",
   "id": "12f3b1b9-b86e-486b-aa63-0b112e92f890",
   "metadata": {},
   "source": [
    "É possível identificar uma concentração das máximas no mês de maio. No Histograma 1 as máximas do inicio de 2021 se somam e aparecem como outra concentração, mas que o Histograma 2 revela que se trata de máxima mais dispersas.\n",
    "Por se tratar de uma concentração expressiva das máximas, vamos analisar as valorizações que ocorreram no mês de maio de 2021."
   ]
  },
  {
   "cell_type": "code",
   "execution_count": 11,
   "id": "4bf87765-e8a1-421f-b694-a81cddb9cf57",
   "metadata": {},
   "outputs": [],
   "source": [
    "maximas = df.loc[grouped_change_2021.idxmax(), ['Date', 'Currency_Name', 'Change %']]\n",
    "maximas = maximas[('2021-05' <= maximas['Date']) & (maximas['Date'] <= '2021-06')]"
   ]
  },
  {
   "cell_type": "code",
   "execution_count": 12,
   "id": "29e40daa-e06f-493e-a67b-4c1482f720f6",
   "metadata": {},
   "outputs": [
    {
     "data": {
      "text/html": [
       "<div>\n",
       "<style scoped>\n",
       "    .dataframe tbody tr th:only-of-type {\n",
       "        vertical-align: middle;\n",
       "    }\n",
       "\n",
       "    .dataframe tbody tr th {\n",
       "        vertical-align: top;\n",
       "    }\n",
       "\n",
       "    .dataframe thead th {\n",
       "        text-align: right;\n",
       "    }\n",
       "</style>\n",
       "<table border=\"1\" class=\"dataframe\">\n",
       "  <thead>\n",
       "    <tr style=\"text-align: right;\">\n",
       "      <th></th>\n",
       "      <th>Date</th>\n",
       "      <th>Currency_Name</th>\n",
       "      <th>Change %</th>\n",
       "    </tr>\n",
       "  </thead>\n",
       "  <tbody>\n",
       "    <tr>\n",
       "      <th>39136</th>\n",
       "      <td>2021-05-24</td>\n",
       "      <td>Polygon</td>\n",
       "      <td>59.83</td>\n",
       "    </tr>\n",
       "    <tr>\n",
       "      <th>21978</th>\n",
       "      <td>2021-05-11</td>\n",
       "      <td>EOS</td>\n",
       "      <td>56.18</td>\n",
       "    </tr>\n",
       "    <tr>\n",
       "      <th>9366</th>\n",
       "      <td>2021-05-05</td>\n",
       "      <td>Bitcoin_Cash</td>\n",
       "      <td>52.83</td>\n",
       "    </tr>\n",
       "    <tr>\n",
       "      <th>47191</th>\n",
       "      <td>2021-05-24</td>\n",
       "      <td>Uniswap</td>\n",
       "      <td>47.46</td>\n",
       "    </tr>\n",
       "    <tr>\n",
       "      <th>25839</th>\n",
       "      <td>2021-05-24</td>\n",
       "      <td>Ethereum_Classic</td>\n",
       "      <td>42.64</td>\n",
       "    </tr>\n",
       "    <tr>\n",
       "      <th>36368</th>\n",
       "      <td>2021-05-20</td>\n",
       "      <td>Monero</td>\n",
       "      <td>40.80</td>\n",
       "    </tr>\n",
       "    <tr>\n",
       "      <th>30048</th>\n",
       "      <td>2021-05-24</td>\n",
       "      <td>Kusama</td>\n",
       "      <td>33.30</td>\n",
       "    </tr>\n",
       "    <tr>\n",
       "      <th>13818</th>\n",
       "      <td>2021-05-24</td>\n",
       "      <td>Chainlink</td>\n",
       "      <td>32.68</td>\n",
       "    </tr>\n",
       "    <tr>\n",
       "      <th>39241</th>\n",
       "      <td>2021-05-24</td>\n",
       "      <td>SHIBA_INU</td>\n",
       "      <td>31.56</td>\n",
       "    </tr>\n",
       "    <tr>\n",
       "      <th>1182</th>\n",
       "      <td>2021-05-24</td>\n",
       "      <td>Aave</td>\n",
       "      <td>31.19</td>\n",
       "    </tr>\n",
       "    <tr>\n",
       "      <th>29756</th>\n",
       "      <td>2021-05-24</td>\n",
       "      <td>Klaytn</td>\n",
       "      <td>29.75</td>\n",
       "    </tr>\n",
       "    <tr>\n",
       "      <th>32665</th>\n",
       "      <td>2021-05-24</td>\n",
       "      <td>Litecoin</td>\n",
       "      <td>29.23</td>\n",
       "    </tr>\n",
       "    <tr>\n",
       "      <th>36530</th>\n",
       "      <td>2021-05-20</td>\n",
       "      <td>Neo</td>\n",
       "      <td>28.93</td>\n",
       "    </tr>\n",
       "    <tr>\n",
       "      <th>23985</th>\n",
       "      <td>2021-05-24</td>\n",
       "      <td>Ethereum</td>\n",
       "      <td>25.96</td>\n",
       "    </tr>\n",
       "    <tr>\n",
       "      <th>30824</th>\n",
       "      <td>2021-05-10</td>\n",
       "      <td>LEO</td>\n",
       "      <td>19.21</td>\n",
       "    </tr>\n",
       "    <tr>\n",
       "      <th>3798</th>\n",
       "      <td>2021-05-12</td>\n",
       "      <td>Binance_USD</td>\n",
       "      <td>0.16</td>\n",
       "    </tr>\n",
       "  </tbody>\n",
       "</table>\n",
       "</div>"
      ],
      "text/plain": [
       "            Date     Currency_Name  Change %\n",
       "39136 2021-05-24           Polygon     59.83\n",
       "21978 2021-05-11               EOS     56.18\n",
       "9366  2021-05-05      Bitcoin_Cash     52.83\n",
       "47191 2021-05-24           Uniswap     47.46\n",
       "25839 2021-05-24  Ethereum_Classic     42.64\n",
       "36368 2021-05-20            Monero     40.80\n",
       "30048 2021-05-24            Kusama     33.30\n",
       "13818 2021-05-24         Chainlink     32.68\n",
       "39241 2021-05-24         SHIBA_INU     31.56\n",
       "1182  2021-05-24              Aave     31.19\n",
       "29756 2021-05-24            Klaytn     29.75\n",
       "32665 2021-05-24          Litecoin     29.23\n",
       "36530 2021-05-20               Neo     28.93\n",
       "23985 2021-05-24          Ethereum     25.96\n",
       "30824 2021-05-10               LEO     19.21\n",
       "3798  2021-05-12       Binance_USD      0.16"
      ]
     },
     "execution_count": 12,
     "metadata": {},
     "output_type": "execute_result"
    }
   ],
   "source": [
    "maximas.sort_values('Change %', ascending=False)"
   ]
  },
  {
   "cell_type": "code",
   "execution_count": 13,
   "id": "0c82040d-c64b-4c96-9dac-2143abeb63e8",
   "metadata": {},
   "outputs": [
    {
     "data": {
      "text/plain": [
       "Date             10\n",
       "Currency_Name    10\n",
       "Change %         10\n",
       "dtype: int64"
      ]
     },
     "execution_count": 13,
     "metadata": {},
     "output_type": "execute_result"
    }
   ],
   "source": [
    "maximas[maximas['Date'] == '2021-05-24'].count()"
   ]
  },
  {
   "cell_type": "code",
   "execution_count": 14,
   "id": "f082d5a3-1e1c-445e-a1b6-3d550664aa67",
   "metadata": {},
   "outputs": [
    {
     "data": {
      "text/plain": [
       "93"
      ]
     },
     "execution_count": 14,
     "metadata": {},
     "output_type": "execute_result"
    },
    {
     "data": {
      "image/png": "[encoded data removed]",
      "text/plain": [
       "<Figure size 1080x360 with 1 Axes>"
      ]
     },
     "metadata": {
      "needs_background": "light"
     },
     "output_type": "display_data"
    }
   ],
   "source": [
    "X = maximas['Date'].to_list()\n",
    "Y = maximas['Change %'].to_list()\n",
    "annotations = maximas['Currency_Name'].to_list()\n",
    "\n",
    "plt.figure(figsize=(15, 5))\n",
    "plt.xticks(rotation=45)\n",
    "plt.scatter(X, Y)\n",
    "plt.title(\"Espalhamento 1 - valorizações máximas de maio de 2021\")\n",
    "texts = [plt.text(X[i], Y[i], annotations[i]) for i in range(len(X))]\n",
    "adjust_text(texts, arrowprops=dict(arrowstyle=\"-\", color='k', lw=0.5))"
   ]
  },
  {
   "cell_type": "markdown",
   "id": "c8a05a9f-251d-47c3-af6a-96522e0d9252",
   "metadata": {},
   "source": [
    "Podemos observar pelo gráfico de espalhamento e pelos dados que\n",
    " * a Polygon teve a maior máxima (59,83 %), seguida pela EOS (56,18 %) e Bitcoin_Cash (52,83 %)\n",
    " * a valorização da Polygon está fortemente relacionada com um fenômeno de alta geral das criptomoedas já que ela está acompanhada pelas máximas de outras dez criptomoedas que ocorreram no mesmo dia (24 de maio)\n",
    " * as máximas da Bitcoin_Cash e da EOS são indícios de grande valorização das criptomoedas em geral, apesar de não fazerem diretamente parte do fenômeno de valorização ocorrido no dia 24"
   ]
  },
  {
   "cell_type": "markdown",
   "id": "051a9c0f-e294-4c47-8573-808edb11786c",
   "metadata": {},
   "source": [
    "### Em qual período as desvalorizações se concentram?"
   ]
  },
  {
   "cell_type": "code",
   "execution_count": 15,
   "id": "42a71cc1-9d0d-46a1-a9d0-bf30f0bce714",
   "metadata": {},
   "outputs": [
    {
     "data": {
      "text/plain": [
       "<AxesSubplot:title={'center':'Histograma 3 - desvalorizações máximas de todo DataFrame'}>"
      ]
     },
     "execution_count": 15,
     "metadata": {},
     "output_type": "execute_result"
    },
    {
     "data": {
      "image/png": "[encoded data removed]",
      "text/plain": [
       "<Figure size 1080x360 with 1 Axes>"
      ]
     },
     "metadata": {
      "needs_background": "light"
     },
     "output_type": "display_data"
    }
   ],
   "source": [
    "plt.title(\"Histograma 3 - desvalorizações máximas de todo DataFrame\")\n",
    "df.loc[change_by_currency.idxmin(), 'Date'].hist(xrot=45, bins=100, figsize=(15, 5))"
   ]
  },
  {
   "cell_type": "markdown",
   "id": "aa2197d5-8ada-4be1-a930-196e8430b8cf",
   "metadata": {},
   "source": [
    "Podemos perceber que houveram concentração de desvalorização no primeiro semestre de 2020 e no ano de 2021. Primeiro vamo investigar com mais detalhes o ano de 2020."
   ]
  },
  {
   "cell_type": "markdown",
   "id": "d3616b74-5b11-4380-8d66-cac0f47e9be6",
   "metadata": {},
   "source": [
    "#### Desvalorizações de 2020"
   ]
  },
  {
   "cell_type": "code",
   "execution_count": 16,
   "id": "3e907ffb-a4d0-4d06-896f-ede0239030c5",
   "metadata": {},
   "outputs": [],
   "source": [
    "grouped_change_2020 = df[(df['Date'] >= '2020-01') & (df['Date'] <= '2020-07')].groupby('Currency_Name')['Change %']"
   ]
  },
  {
   "cell_type": "code",
   "execution_count": 17,
   "id": "5a6f909f-5420-4e9b-8457-8261c4a91140",
   "metadata": {},
   "outputs": [
    {
     "data": {
      "text/plain": [
       "<AxesSubplot:title={'center':'Histrograma 4 - desvalorizações máximas no primeiro semestre de 2020'}>"
      ]
     },
     "execution_count": 17,
     "metadata": {},
     "output_type": "execute_result"
    },
    {
     "data": {
      "image/png": "[encoded data removed]",
      "text/plain": [
       "<Figure size 1080x360 with 1 Axes>"
      ]
     },
     "metadata": {
      "needs_background": "light"
     },
     "output_type": "display_data"
    }
   ],
   "source": [
    "plt.title(\"Histrograma 4 - desvalorizações máximas no primeiro semestre de 2020\")\n",
    "df.loc[grouped_change_2020.idxmin(), 'Date'].hist(xrot=45, bins=100, figsize=(15, 5))"
   ]
  },
  {
   "cell_type": "code",
   "execution_count": 18,
   "id": "a480acb4-1be6-4039-a7f2-3445b384a387",
   "metadata": {},
   "outputs": [],
   "source": [
    "minimas_2020 = df.loc[grouped_change_2020.idxmin(), ['Date', 'Currency_Name', 'Change %']]\n",
    "minimas_2020 = minimas_2020[('2020-03' <= minimas_2020['Date']) & (minimas_2020['Date'] <= '2020-04')]"
   ]
  },
  {
   "cell_type": "code",
   "execution_count": 19,
   "id": "6ca3dc49-e3c8-46c5-a8f0-b764799929d4",
   "metadata": {},
   "outputs": [
    {
     "data": {
      "text/plain": [
       "array(['2020-03-12T00:00:00.000000000', '2020-03-13T00:00:00.000000000'],\n",
       "      dtype='datetime64[ns]')"
      ]
     },
     "execution_count": 19,
     "metadata": {},
     "output_type": "execute_result"
    }
   ],
   "source": [
    "minimas_2020['Date'].unique()"
   ]
  },
  {
   "cell_type": "code",
   "execution_count": 20,
   "id": "43787f69-e377-41cd-87f2-04ddb8c27d4c",
   "metadata": {},
   "outputs": [
    {
     "data": {
      "text/plain": [
       "Date             30\n",
       "Currency_Name    30\n",
       "Change %         30\n",
       "dtype: int64"
      ]
     },
     "execution_count": 20,
     "metadata": {},
     "output_type": "execute_result"
    }
   ],
   "source": [
    "minimas_2020[minimas_2020['Date'] == '2020-03-12'].count()"
   ]
  },
  {
   "cell_type": "code",
   "execution_count": 21,
   "id": "b60734bd-e903-44ce-8c86-de94f810d104",
   "metadata": {},
   "outputs": [
    {
     "data": {
      "text/html": [
       "<div>\n",
       "<style scoped>\n",
       "    .dataframe tbody tr th:only-of-type {\n",
       "        vertical-align: middle;\n",
       "    }\n",
       "\n",
       "    .dataframe tbody tr th {\n",
       "        vertical-align: top;\n",
       "    }\n",
       "\n",
       "    .dataframe thead th {\n",
       "        text-align: right;\n",
       "    }\n",
       "</style>\n",
       "<table border=\"1\" class=\"dataframe\">\n",
       "  <thead>\n",
       "    <tr style=\"text-align: right;\">\n",
       "      <th></th>\n",
       "      <th>Date</th>\n",
       "      <th>Currency_Name</th>\n",
       "      <th>Change %</th>\n",
       "    </tr>\n",
       "  </thead>\n",
       "  <tbody>\n",
       "    <tr>\n",
       "      <th>33535</th>\n",
       "      <td>2020-03-12</td>\n",
       "      <td>Maker</td>\n",
       "      <td>-60.03</td>\n",
       "    </tr>\n",
       "    <tr>\n",
       "      <th>38698</th>\n",
       "      <td>2020-03-12</td>\n",
       "      <td>Polygon</td>\n",
       "      <td>-51.94</td>\n",
       "    </tr>\n",
       "    <tr>\n",
       "      <th>1506</th>\n",
       "      <td>2020-03-12</td>\n",
       "      <td>Algorand</td>\n",
       "      <td>-50.11</td>\n",
       "    </tr>\n",
       "    <tr>\n",
       "      <th>49159</th>\n",
       "      <td>2020-03-12</td>\n",
       "      <td>VeChain</td>\n",
       "      <td>-48.75</td>\n",
       "    </tr>\n",
       "    <tr>\n",
       "      <th>45081</th>\n",
       "      <td>2020-03-12</td>\n",
       "      <td>THETA</td>\n",
       "      <td>-47.73</td>\n",
       "    </tr>\n",
       "    <tr>\n",
       "      <th>13380</th>\n",
       "      <td>2020-03-12</td>\n",
       "      <td>Chainlink</td>\n",
       "      <td>-47.20</td>\n",
       "    </tr>\n",
       "    <tr>\n",
       "      <th>9957</th>\n",
       "      <td>2020-03-12</td>\n",
       "      <td>Bitcoin_SV</td>\n",
       "      <td>-46.35</td>\n",
       "    </tr>\n",
       "    <tr>\n",
       "      <th>14213</th>\n",
       "      <td>2020-03-12</td>\n",
       "      <td>Cosmos</td>\n",
       "      <td>-45.91</td>\n",
       "    </tr>\n",
       "    <tr>\n",
       "      <th>43786</th>\n",
       "      <td>2020-03-12</td>\n",
       "      <td>Tezos</td>\n",
       "      <td>-45.91</td>\n",
       "    </tr>\n",
       "    <tr>\n",
       "      <th>8947</th>\n",
       "      <td>2020-03-12</td>\n",
       "      <td>Bitcoin_Cash</td>\n",
       "      <td>-44.99</td>\n",
       "    </tr>\n",
       "    <tr>\n",
       "      <th>23547</th>\n",
       "      <td>2020-03-12</td>\n",
       "      <td>Ethereum</td>\n",
       "      <td>-44.55</td>\n",
       "    </tr>\n",
       "    <tr>\n",
       "      <th>3163</th>\n",
       "      <td>2020-03-12</td>\n",
       "      <td>Binance_Coin</td>\n",
       "      <td>-44.08</td>\n",
       "    </tr>\n",
       "    <tr>\n",
       "      <th>29194</th>\n",
       "      <td>2020-03-12</td>\n",
       "      <td>IOTA</td>\n",
       "      <td>-43.53</td>\n",
       "    </tr>\n",
       "    <tr>\n",
       "      <th>46461</th>\n",
       "      <td>2020-03-12</td>\n",
       "      <td>Tron</td>\n",
       "      <td>-43.49</td>\n",
       "    </tr>\n",
       "    <tr>\n",
       "      <th>10747</th>\n",
       "      <td>2020-03-12</td>\n",
       "      <td>BitTorrent</td>\n",
       "      <td>-43.48</td>\n",
       "    </tr>\n",
       "    <tr>\n",
       "      <th>25401</th>\n",
       "      <td>2020-03-12</td>\n",
       "      <td>Ethereum_Classic</td>\n",
       "      <td>-42.96</td>\n",
       "    </tr>\n",
       "    <tr>\n",
       "      <th>21553</th>\n",
       "      <td>2020-03-12</td>\n",
       "      <td>EOS</td>\n",
       "      <td>-41.99</td>\n",
       "    </tr>\n",
       "    <tr>\n",
       "      <th>12080</th>\n",
       "      <td>2020-03-12</td>\n",
       "      <td>Cardano</td>\n",
       "      <td>-41.49</td>\n",
       "    </tr>\n",
       "    <tr>\n",
       "      <th>35934</th>\n",
       "      <td>2020-03-12</td>\n",
       "      <td>Monero</td>\n",
       "      <td>-40.87</td>\n",
       "    </tr>\n",
       "    <tr>\n",
       "      <th>15170</th>\n",
       "      <td>2020-03-12</td>\n",
       "      <td>Crypto.com_Coin</td>\n",
       "      <td>-40.81</td>\n",
       "    </tr>\n",
       "    <tr>\n",
       "      <th>36964</th>\n",
       "      <td>2020-03-12</td>\n",
       "      <td>Neo</td>\n",
       "      <td>-40.04</td>\n",
       "    </tr>\n",
       "    <tr>\n",
       "      <th>50220</th>\n",
       "      <td>2020-03-12</td>\n",
       "      <td>Waves</td>\n",
       "      <td>-39.98</td>\n",
       "    </tr>\n",
       "    <tr>\n",
       "      <th>18102</th>\n",
       "      <td>2020-03-12</td>\n",
       "      <td>Dash</td>\n",
       "      <td>-39.74</td>\n",
       "    </tr>\n",
       "    <tr>\n",
       "      <th>7343</th>\n",
       "      <td>2020-03-12</td>\n",
       "      <td>Bitcoin</td>\n",
       "      <td>-39.18</td>\n",
       "    </tr>\n",
       "    <tr>\n",
       "      <th>32227</th>\n",
       "      <td>2020-03-12</td>\n",
       "      <td>Litecoin</td>\n",
       "      <td>-38.54</td>\n",
       "    </tr>\n",
       "    <tr>\n",
       "      <th>772</th>\n",
       "      <td>2020-03-12</td>\n",
       "      <td>Aave</td>\n",
       "      <td>-38.08</td>\n",
       "    </tr>\n",
       "    <tr>\n",
       "      <th>40893</th>\n",
       "      <td>2020-03-12</td>\n",
       "      <td>Stellar</td>\n",
       "      <td>-35.62</td>\n",
       "    </tr>\n",
       "    <tr>\n",
       "      <th>51958</th>\n",
       "      <td>2020-03-12</td>\n",
       "      <td>XPR</td>\n",
       "      <td>-34.64</td>\n",
       "    </tr>\n",
       "    <tr>\n",
       "      <th>25986</th>\n",
       "      <td>2020-03-12</td>\n",
       "      <td>Filecoin</td>\n",
       "      <td>-32.00</td>\n",
       "    </tr>\n",
       "    <tr>\n",
       "      <th>27314</th>\n",
       "      <td>2020-03-12</td>\n",
       "      <td>FTX_Token</td>\n",
       "      <td>-13.41</td>\n",
       "    </tr>\n",
       "    <tr>\n",
       "      <th>16468</th>\n",
       "      <td>2020-03-13</td>\n",
       "      <td>Dai</td>\n",
       "      <td>-5.72</td>\n",
       "    </tr>\n",
       "    <tr>\n",
       "      <th>47813</th>\n",
       "      <td>2020-03-13</td>\n",
       "      <td>USD_Coin</td>\n",
       "      <td>-0.55</td>\n",
       "    </tr>\n",
       "  </tbody>\n",
       "</table>\n",
       "</div>"
      ],
      "text/plain": [
       "            Date     Currency_Name  Change %\n",
       "33535 2020-03-12             Maker    -60.03\n",
       "38698 2020-03-12           Polygon    -51.94\n",
       "1506  2020-03-12          Algorand    -50.11\n",
       "49159 2020-03-12           VeChain    -48.75\n",
       "45081 2020-03-12             THETA    -47.73\n",
       "13380 2020-03-12         Chainlink    -47.20\n",
       "9957  2020-03-12        Bitcoin_SV    -46.35\n",
       "14213 2020-03-12            Cosmos    -45.91\n",
       "43786 2020-03-12             Tezos    -45.91\n",
       "8947  2020-03-12      Bitcoin_Cash    -44.99\n",
       "23547 2020-03-12          Ethereum    -44.55\n",
       "3163  2020-03-12      Binance_Coin    -44.08\n",
       "29194 2020-03-12              IOTA    -43.53\n",
       "46461 2020-03-12              Tron    -43.49\n",
       "10747 2020-03-12        BitTorrent    -43.48\n",
       "25401 2020-03-12  Ethereum_Classic    -42.96\n",
       "21553 2020-03-12               EOS    -41.99\n",
       "12080 2020-03-12           Cardano    -41.49\n",
       "35934 2020-03-12            Monero    -40.87\n",
       "15170 2020-03-12   Crypto.com_Coin    -40.81\n",
       "36964 2020-03-12               Neo    -40.04\n",
       "50220 2020-03-12             Waves    -39.98\n",
       "18102 2020-03-12              Dash    -39.74\n",
       "7343  2020-03-12           Bitcoin    -39.18\n",
       "32227 2020-03-12          Litecoin    -38.54\n",
       "772   2020-03-12              Aave    -38.08\n",
       "40893 2020-03-12           Stellar    -35.62\n",
       "51958 2020-03-12               XPR    -34.64\n",
       "25986 2020-03-12          Filecoin    -32.00\n",
       "27314 2020-03-12         FTX_Token    -13.41\n",
       "16468 2020-03-13               Dai     -5.72\n",
       "47813 2020-03-13          USD_Coin     -0.55"
      ]
     },
     "execution_count": 21,
     "metadata": {},
     "output_type": "execute_result"
    }
   ],
   "source": [
    "minimas_2020.sort_values('Change %')"
   ]
  },
  {
   "cell_type": "markdown",
   "id": "3dac0123-1a95-4976-aca2-64834b680079",
   "metadata": {},
   "source": [
    "Com o Histograma 4 e os dados exibidos podemos concluir que\n",
    " * a grande campeã de desvalorização é a Maker (-60,03 %)\n",
    " * houve um fenômeno de desvalorização concentrada das criptomoedas no dia 12 de março, que reverberou no dia seguinte\n",
    " * Polygon, EOS e Bitcoin_Cash figuram entre as criptomoedas que sofreram as maiores baixas, com -51,94 %, -41,99 % e -44,99 % respectivamente"
   ]
  },
  {
   "cell_type": "raw",
   "id": "436f9cac-aea9-4d9b-bf49-b3e1a40d9c6c",
   "metadata": {},
   "source": [
    "Qual a volatilidade de cada moeda em 10 anos, 2 anos e 3 meses? Ordenar por volatilidade\n",
    "Qual moeda rendeu mais em 10 anos?\n",
    "Como prever o valor das moedas em um futuro próximo? E num futuro distante?\n",
    "What day of the week is best to buy/sell?"
   ]
  },
  {
   "cell_type": "code",
   "execution_count": 14,
   "id": "83a47018-8757-43cb-81f5-d8a4d3c32e38",
   "metadata": {},
   "outputs": [
    {
     "data": {
      "text/html": [
       "<div>\n",
       "<style scoped>\n",
       "    .dataframe tbody tr th:only-of-type {\n",
       "        vertical-align: middle;\n",
       "    }\n",
       "\n",
       "    .dataframe tbody tr th {\n",
       "        vertical-align: top;\n",
       "    }\n",
       "\n",
       "    .dataframe thead th {\n",
       "        text-align: right;\n",
       "    }\n",
       "</style>\n",
       "<table border=\"1\" class=\"dataframe\">\n",
       "  <thead>\n",
       "    <tr style=\"text-align: right;\">\n",
       "      <th></th>\n",
       "      <th>Currency_Name</th>\n",
       "      <th>Date</th>\n",
       "      <th>Price</th>\n",
       "      <th>Open</th>\n",
       "      <th>High</th>\n",
       "      <th>Low</th>\n",
       "      <th>Vol.</th>\n",
       "      <th>Change %</th>\n",
       "    </tr>\n",
       "  </thead>\n",
       "  <tbody>\n",
       "    <tr>\n",
       "      <th>0</th>\n",
       "      <td>Aave</td>\n",
       "      <td>2018-01-30</td>\n",
       "      <td>0.15000</td>\n",
       "      <td>0.17000</td>\n",
       "      <td>0.17000</td>\n",
       "      <td>0.14000</td>\n",
       "      <td>530470.0</td>\n",
       "      <td>-7.95</td>\n",
       "    </tr>\n",
       "    <tr>\n",
       "      <th>1</th>\n",
       "      <td>Aave</td>\n",
       "      <td>2018-01-31</td>\n",
       "      <td>0.14000</td>\n",
       "      <td>0.15000</td>\n",
       "      <td>0.15000</td>\n",
       "      <td>0.13000</td>\n",
       "      <td>396050.0</td>\n",
       "      <td>-11.10</td>\n",
       "    </tr>\n",
       "    <tr>\n",
       "      <th>2</th>\n",
       "      <td>Aave</td>\n",
       "      <td>2018-02-01</td>\n",
       "      <td>0.11000</td>\n",
       "      <td>0.14000</td>\n",
       "      <td>0.14000</td>\n",
       "      <td>0.11000</td>\n",
       "      <td>987260.0</td>\n",
       "      <td>-17.46</td>\n",
       "    </tr>\n",
       "    <tr>\n",
       "      <th>3</th>\n",
       "      <td>Aave</td>\n",
       "      <td>2018-02-02</td>\n",
       "      <td>0.10000</td>\n",
       "      <td>0.11000</td>\n",
       "      <td>0.11000</td>\n",
       "      <td>0.08000</td>\n",
       "      <td>1810000.0</td>\n",
       "      <td>-8.32</td>\n",
       "    </tr>\n",
       "    <tr>\n",
       "      <th>4</th>\n",
       "      <td>Aave</td>\n",
       "      <td>2018-02-03</td>\n",
       "      <td>0.11000</td>\n",
       "      <td>0.10000</td>\n",
       "      <td>0.12000</td>\n",
       "      <td>0.09000</td>\n",
       "      <td>1200000.0</td>\n",
       "      <td>6.85</td>\n",
       "    </tr>\n",
       "    <tr>\n",
       "      <th>...</th>\n",
       "      <td>...</td>\n",
       "      <td>...</td>\n",
       "      <td>...</td>\n",
       "      <td>...</td>\n",
       "      <td>...</td>\n",
       "      <td>...</td>\n",
       "      <td>...</td>\n",
       "      <td>...</td>\n",
       "    </tr>\n",
       "    <tr>\n",
       "      <th>53830</th>\n",
       "      <td>XPR</td>\n",
       "      <td>2015-01-26</td>\n",
       "      <td>0.01469</td>\n",
       "      <td>0.01700</td>\n",
       "      <td>0.01750</td>\n",
       "      <td>0.01469</td>\n",
       "      <td>0.0</td>\n",
       "      <td>-13.59</td>\n",
       "    </tr>\n",
       "    <tr>\n",
       "      <th>53831</th>\n",
       "      <td>XPR</td>\n",
       "      <td>2015-01-25</td>\n",
       "      <td>0.01700</td>\n",
       "      <td>0.01739</td>\n",
       "      <td>0.01739</td>\n",
       "      <td>0.01560</td>\n",
       "      <td>0.0</td>\n",
       "      <td>-2.24</td>\n",
       "    </tr>\n",
       "    <tr>\n",
       "      <th>53832</th>\n",
       "      <td>XPR</td>\n",
       "      <td>2015-01-24</td>\n",
       "      <td>0.01739</td>\n",
       "      <td>0.01600</td>\n",
       "      <td>0.01739</td>\n",
       "      <td>0.01500</td>\n",
       "      <td>0.0</td>\n",
       "      <td>8.69</td>\n",
       "    </tr>\n",
       "    <tr>\n",
       "      <th>53833</th>\n",
       "      <td>XPR</td>\n",
       "      <td>2015-01-23</td>\n",
       "      <td>0.01600</td>\n",
       "      <td>0.01602</td>\n",
       "      <td>0.01700</td>\n",
       "      <td>0.01600</td>\n",
       "      <td>0.0</td>\n",
       "      <td>-0.12</td>\n",
       "    </tr>\n",
       "    <tr>\n",
       "      <th>53834</th>\n",
       "      <td>XPR</td>\n",
       "      <td>2015-01-22</td>\n",
       "      <td>0.01602</td>\n",
       "      <td>0.01523</td>\n",
       "      <td>0.01750</td>\n",
       "      <td>0.01523</td>\n",
       "      <td>0.0</td>\n",
       "      <td>5.19</td>\n",
       "    </tr>\n",
       "  </tbody>\n",
       "</table>\n",
       "<p>53835 rows × 8 columns</p>\n",
       "</div>"
      ],
      "text/plain": [
       "      Currency_Name       Date    Price     Open     High      Low       Vol.  \\\n",
       "0              Aave 2018-01-30  0.15000  0.17000  0.17000  0.14000   530470.0   \n",
       "1              Aave 2018-01-31  0.14000  0.15000  0.15000  0.13000   396050.0   \n",
       "2              Aave 2018-02-01  0.11000  0.14000  0.14000  0.11000   987260.0   \n",
       "3              Aave 2018-02-02  0.10000  0.11000  0.11000  0.08000  1810000.0   \n",
       "4              Aave 2018-02-03  0.11000  0.10000  0.12000  0.09000  1200000.0   \n",
       "...             ...        ...      ...      ...      ...      ...        ...   \n",
       "53830           XPR 2015-01-26  0.01469  0.01700  0.01750  0.01469        0.0   \n",
       "53831           XPR 2015-01-25  0.01700  0.01739  0.01739  0.01560        0.0   \n",
       "53832           XPR 2015-01-24  0.01739  0.01600  0.01739  0.01500        0.0   \n",
       "53833           XPR 2015-01-23  0.01600  0.01602  0.01700  0.01600        0.0   \n",
       "53834           XPR 2015-01-22  0.01602  0.01523  0.01750  0.01523        0.0   \n",
       "\n",
       "       Change %  \n",
       "0         -7.95  \n",
       "1        -11.10  \n",
       "2        -17.46  \n",
       "3         -8.32  \n",
       "4          6.85  \n",
       "...         ...  \n",
       "53830    -13.59  \n",
       "53831     -2.24  \n",
       "53832      8.69  \n",
       "53833     -0.12  \n",
       "53834      5.19  \n",
       "\n",
       "[53835 rows x 8 columns]"
      ]
     },
     "execution_count": 14,
     "metadata": {},
     "output_type": "execute_result"
    }
   ],
   "source": [
    "df"
   ]
  }
 ],
 "metadata": {
  "kernelspec": {
   "display_name": "Python 3 (ipykernel)",
   "language": "python",
   "name": "python3"
  },
  "language_info": {
   "codemirror_mode": {
    "name": "ipython",
    "version": 3
   },
   "file_extension": ".py",
   "mimetype": "text/x-python",
   "name": "python",
   "nbconvert_exporter": "python",
   "pygments_lexer": "ipython3",
   "version": "3.7.3"
  }
 },
 "nbformat": 4,
 "nbformat_minor": 5
}
