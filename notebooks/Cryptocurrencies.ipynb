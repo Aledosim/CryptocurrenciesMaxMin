{
 "cells": [
  {
   "cell_type": "code",
   "execution_count": 1,
   "id": "2985e97e-9544-4332-b373-d8d5e0eb36a4",
   "metadata": {},
   "outputs": [],
   "source": [
    "import pandas as pd\n",
    "import matplotlib.pyplot as plt\n",
    "import matplotlib.dates as mdate\n",
    "from adjustText import adjust_text"
   ]
  },
  {
   "cell_type": "code",
   "execution_count": 2,
   "id": "cfeb4c01-34ad-43af-b610-04450ce9a5c5",
   "metadata": {},
   "outputs": [],
   "source": [
    "df = pd.read_csv('../data/All_combined.csv', parse_dates=['Date'], dtype={'Currency_Name': pd.StringDtype()})"
   ]
  },
  {
   "cell_type": "code",
   "execution_count": 3,
   "id": "72bb8526-3e05-4335-830e-19869e019d1d",
   "metadata": {},
   "outputs": [],
   "source": [
    "plot_title_fontdict = {'fontweight': 'bold', 'fontsize': '18'}"
   ]
  },
  {
   "cell_type": "markdown",
   "id": "30c03239-ac52-4fb9-8898-42d2ae6a0e0b",
   "metadata": {
    "tags": []
   },
   "source": [
    "# Análise inicial"
   ]
  },
  {
   "cell_type": "markdown",
   "id": "3e04b7d4-9050-40f3-9ceb-a1571735498f",
   "metadata": {},
   "source": [
    "Não existem valores nulos entre os dados"
   ]
  },
  {
   "cell_type": "code",
   "execution_count": 4,
   "id": "d270dc43-f804-4bb2-946c-7f5ce0511b7a",
   "metadata": {},
   "outputs": [
    {
     "data": {
      "text/plain": [
       "False"
      ]
     },
     "execution_count": 4,
     "metadata": {},
     "output_type": "execute_result"
    }
   ],
   "source": [
    "df.isnull().values.any()"
   ]
  },
  {
   "cell_type": "markdown",
   "id": "26ac74cb-e276-4e15-b0bb-8de2be32edb0",
   "metadata": {},
   "source": [
    "O período de amostragem vai de 18 de julho de 2010 a 24 de agosto de 2021"
   ]
  },
  {
   "cell_type": "code",
   "execution_count": 5,
   "id": "f5836884-c157-4164-b242-539c2b0f19a4",
   "metadata": {},
   "outputs": [
    {
     "data": {
      "text/plain": [
       "Timestamp('2010-07-18 00:00:00')"
      ]
     },
     "execution_count": 5,
     "metadata": {},
     "output_type": "execute_result"
    }
   ],
   "source": [
    "df['Date'].min()"
   ]
  },
  {
   "cell_type": "code",
   "execution_count": 6,
   "id": "29ac1e26-1f57-461f-a0c2-92a96a388b05",
   "metadata": {},
   "outputs": [
    {
     "data": {
      "text/plain": [
       "Timestamp('2021-08-24 00:00:00')"
      ]
     },
     "execution_count": 6,
     "metadata": {},
     "output_type": "execute_result"
    }
   ],
   "source": [
    "df['Date'].max()"
   ]
  },
  {
   "cell_type": "markdown",
   "id": "5cb77aa2-4ec4-41fb-831c-c972c7a365c0",
   "metadata": {},
   "source": [
    "Lista das criptomoedas analisadas"
   ]
  },
  {
   "cell_type": "code",
   "execution_count": 7,
   "id": "853bcc91-c945-4a11-a8f3-1870dfffa907",
   "metadata": {},
   "outputs": [
    {
     "data": {
      "text/plain": [
       "<StringArray>\n",
       "[            'Aave',         'Algorand',        'Avalanche',\n",
       "    'Axie_Infinity',     'Binance_Coin',      'Binance_USD',\n",
       "          'Bitcoin',     'Bitcoin_BEP2',     'Bitcoin_Cash',\n",
       "       'Bitcoin_SV',       'BitTorrent',          'Cardano',\n",
       "        'Chainlink',           'Cosmos',  'Crypto.com_Coin',\n",
       "              'Dai',             'Dash',         'Dogecoin',\n",
       "           'Elrond',              'EOS',         'Ethereum',\n",
       " 'Ethereum_Classic',         'Filecoin',        'FTX_Token',\n",
       "              'GRT',              'ICP',             'IOTA',\n",
       "           'Klaytn',           'Kusama',              'LEO',\n",
       "         'Litecoin',            'Maker',           'Monero',\n",
       "              'Neo',      'PancakeSwap',         'Polkadot',\n",
       "          'Polygon',        'SHIBA_INU',           'Solana',\n",
       "          'Stellar',           'Tether',            'Tezos',\n",
       "            'THETA',             'Tron',          'Uniswap',\n",
       "         'USD_Coin',          'VeChain',            'Waves',\n",
       "             'WBTC',              'XPR']\n",
       "Length: 50, dtype: string"
      ]
     },
     "execution_count": 7,
     "metadata": {},
     "output_type": "execute_result"
    }
   ],
   "source": [
    "df['Currency_Name'].unique()"
   ]
  },
  {
   "cell_type": "markdown",
   "id": "14d10e24-5141-42a9-9acd-fcf3fb92452a",
   "metadata": {
    "tags": []
   },
   "source": [
    "# Tarefas"
   ]
  },
  {
   "cell_type": "markdown",
   "id": "2d7b11d8-7421-41dd-9fbd-0d21eab3fc36",
   "metadata": {
    "tags": []
   },
   "source": [
    "## Em qual dia houve maior alta e maior baixa?"
   ]
  },
  {
   "cell_type": "code",
   "execution_count": 8,
   "id": "2de59c00-63eb-4093-911a-ba2626aabd36",
   "metadata": {},
   "outputs": [],
   "source": [
    "change_by_currency = df.groupby('Currency_Name')['Change %']"
   ]
  },
  {
   "cell_type": "markdown",
   "id": "44c1c570-47f7-460e-b1d9-c633f94f3f38",
   "metadata": {
    "tags": []
   },
   "source": [
    "### Em qual período as máximas valorizações se concentram?"
   ]
  },
  {
   "cell_type": "code",
   "execution_count": 9,
   "id": "55a10118-af76-47e7-8c2a-fdd713297714",
   "metadata": {},
   "outputs": [
    {
     "data": {
      "text/plain": [
       "<AxesSubplot:title={'center':'Histograma 1 - valorizações máximas de todo período'}>"
      ]
     },
     "execution_count": 9,
     "metadata": {},
     "output_type": "execute_result"
    },
    {
     "data": {
      "image/png": "[encoded data removed]",
      "text/plain": [
       "<Figure size 1080x360 with 1 Axes>"
      ]
     },
     "metadata": {
      "needs_background": "light"
     },
     "output_type": "display_data"
    }
   ],
   "source": [
    "plt.title(\"Histograma 1 - valorizações máximas de todo período\", fontdict=plot_title_fontdict)\n",
    "df.loc[change_by_currency.idxmax(), 'Date'].hist(xrot=45, bins=100, figsize=(15, 5))"
   ]
  },
  {
   "cell_type": "markdown",
   "id": "d0484cf3-13f8-470c-8c7f-61d2d640a944",
   "metadata": {},
   "source": [
    "De acordo com o Histograma 1, existe uma concentração das máximas no ano de 2021. Vamos analisar com mais detalhes esse período."
   ]
  },
  {
   "cell_type": "code",
   "execution_count": 10,
   "id": "f8310d7c-6081-429b-a9ba-69de77204d65",
   "metadata": {},
   "outputs": [],
   "source": [
    "date_filter = df['Date'].dt.year == 2021\n",
    "grouped_change_2021 = df[date_filter].groupby('Currency_Name')['Change %']"
   ]
  },
  {
   "cell_type": "code",
   "execution_count": 11,
   "id": "179d12d9-5842-423b-9c9c-206524a2943a",
   "metadata": {},
   "outputs": [
    {
     "data": {
      "text/plain": [
       "<AxesSubplot:title={'center':'Histograma 2 - valorizações máximas de 2021'}>"
      ]
     },
     "execution_count": 11,
     "metadata": {},
     "output_type": "execute_result"
    },
    {
     "data": {
      "image/png": "[encoded data removed]",
      "text/plain": [
       "<Figure size 1080x360 with 1 Axes>"
      ]
     },
     "metadata": {
      "needs_background": "light"
     },
     "output_type": "display_data"
    }
   ],
   "source": [
    "plt.title('Histograma 2 - valorizações máximas de 2021', fontdict=plot_title_fontdict)\n",
    "df.loc[grouped_change_2021.idxmax(), 'Date'].hist(xrot=45, bins=100, figsize=(15, 5))"
   ]
  },
  {
   "cell_type": "markdown",
   "id": "12f3b1b9-b86e-486b-aa63-0b112e92f890",
   "metadata": {},
   "source": [
    "É possível identificar uma concentração das máximas no mês de maio. No Histograma 1 as máximas do inicio de 2021 se somam e aparecem como outra concentração, mas que o Histograma 2 revela se tratar de máximas mais dispersas.\n",
    "\n",
    "Por ser uma concentração expressiva das máximas, vamos analisar as máximas que ocorreram no mês de maio de 2021."
   ]
  },
  {
   "cell_type": "code",
   "execution_count": 12,
   "id": "4bf87765-e8a1-421f-b694-a81cddb9cf57",
   "metadata": {},
   "outputs": [],
   "source": [
    "maximas = df.loc[grouped_change_2021.idxmax(), ['Date', 'Currency_Name', 'Change %']]\n",
    "date_filter = ('2021-05' <= maximas['Date']) & (maximas['Date'] <= '2021-06')\n",
    "maximas = maximas[date_filter]"
   ]
  },
  {
   "cell_type": "code",
   "execution_count": 13,
   "id": "29e40daa-e06f-493e-a67b-4c1482f720f6",
   "metadata": {},
   "outputs": [
    {
     "data": {
      "text/html": [
       "<div>\n",
       "<style scoped>\n",
       "    .dataframe tbody tr th:only-of-type {\n",
       "        vertical-align: middle;\n",
       "    }\n",
       "\n",
       "    .dataframe tbody tr th {\n",
       "        vertical-align: top;\n",
       "    }\n",
       "\n",
       "    .dataframe thead th {\n",
       "        text-align: right;\n",
       "    }\n",
       "</style>\n",
       "<table border=\"1\" class=\"dataframe\">\n",
       "  <thead>\n",
       "    <tr style=\"text-align: right;\">\n",
       "      <th></th>\n",
       "      <th>Data</th>\n",
       "      <th>Nome da criptomoeda</th>\n",
       "      <th>Variação %</th>\n",
       "    </tr>\n",
       "  </thead>\n",
       "  <tbody>\n",
       "    <tr>\n",
       "      <th>39136</th>\n",
       "      <td>2021-05-24</td>\n",
       "      <td>Polygon</td>\n",
       "      <td>59.83</td>\n",
       "    </tr>\n",
       "    <tr>\n",
       "      <th>21978</th>\n",
       "      <td>2021-05-11</td>\n",
       "      <td>EOS</td>\n",
       "      <td>56.18</td>\n",
       "    </tr>\n",
       "    <tr>\n",
       "      <th>9366</th>\n",
       "      <td>2021-05-05</td>\n",
       "      <td>Bitcoin_Cash</td>\n",
       "      <td>52.83</td>\n",
       "    </tr>\n",
       "    <tr>\n",
       "      <th>47191</th>\n",
       "      <td>2021-05-24</td>\n",
       "      <td>Uniswap</td>\n",
       "      <td>47.46</td>\n",
       "    </tr>\n",
       "    <tr>\n",
       "      <th>25839</th>\n",
       "      <td>2021-05-24</td>\n",
       "      <td>Ethereum_Classic</td>\n",
       "      <td>42.64</td>\n",
       "    </tr>\n",
       "    <tr>\n",
       "      <th>36368</th>\n",
       "      <td>2021-05-20</td>\n",
       "      <td>Monero</td>\n",
       "      <td>40.80</td>\n",
       "    </tr>\n",
       "    <tr>\n",
       "      <th>30048</th>\n",
       "      <td>2021-05-24</td>\n",
       "      <td>Kusama</td>\n",
       "      <td>33.30</td>\n",
       "    </tr>\n",
       "    <tr>\n",
       "      <th>13818</th>\n",
       "      <td>2021-05-24</td>\n",
       "      <td>Chainlink</td>\n",
       "      <td>32.68</td>\n",
       "    </tr>\n",
       "    <tr>\n",
       "      <th>39241</th>\n",
       "      <td>2021-05-24</td>\n",
       "      <td>SHIBA_INU</td>\n",
       "      <td>31.56</td>\n",
       "    </tr>\n",
       "    <tr>\n",
       "      <th>1182</th>\n",
       "      <td>2021-05-24</td>\n",
       "      <td>Aave</td>\n",
       "      <td>31.19</td>\n",
       "    </tr>\n",
       "    <tr>\n",
       "      <th>29756</th>\n",
       "      <td>2021-05-24</td>\n",
       "      <td>Klaytn</td>\n",
       "      <td>29.75</td>\n",
       "    </tr>\n",
       "    <tr>\n",
       "      <th>32665</th>\n",
       "      <td>2021-05-24</td>\n",
       "      <td>Litecoin</td>\n",
       "      <td>29.23</td>\n",
       "    </tr>\n",
       "    <tr>\n",
       "      <th>36530</th>\n",
       "      <td>2021-05-20</td>\n",
       "      <td>Neo</td>\n",
       "      <td>28.93</td>\n",
       "    </tr>\n",
       "    <tr>\n",
       "      <th>23985</th>\n",
       "      <td>2021-05-24</td>\n",
       "      <td>Ethereum</td>\n",
       "      <td>25.96</td>\n",
       "    </tr>\n",
       "    <tr>\n",
       "      <th>30824</th>\n",
       "      <td>2021-05-10</td>\n",
       "      <td>LEO</td>\n",
       "      <td>19.21</td>\n",
       "    </tr>\n",
       "    <tr>\n",
       "      <th>3798</th>\n",
       "      <td>2021-05-12</td>\n",
       "      <td>Binance_USD</td>\n",
       "      <td>0.16</td>\n",
       "    </tr>\n",
       "  </tbody>\n",
       "</table>\n",
       "</div>"
      ],
      "text/plain": [
       "            Data Nome da criptomoeda  Variação %\n",
       "39136 2021-05-24             Polygon       59.83\n",
       "21978 2021-05-11                 EOS       56.18\n",
       "9366  2021-05-05        Bitcoin_Cash       52.83\n",
       "47191 2021-05-24             Uniswap       47.46\n",
       "25839 2021-05-24    Ethereum_Classic       42.64\n",
       "36368 2021-05-20              Monero       40.80\n",
       "30048 2021-05-24              Kusama       33.30\n",
       "13818 2021-05-24           Chainlink       32.68\n",
       "39241 2021-05-24           SHIBA_INU       31.56\n",
       "1182  2021-05-24                Aave       31.19\n",
       "29756 2021-05-24              Klaytn       29.75\n",
       "32665 2021-05-24            Litecoin       29.23\n",
       "36530 2021-05-20                 Neo       28.93\n",
       "23985 2021-05-24            Ethereum       25.96\n",
       "30824 2021-05-10                 LEO       19.21\n",
       "3798  2021-05-12         Binance_USD        0.16"
      ]
     },
     "execution_count": 13,
     "metadata": {},
     "output_type": "execute_result"
    }
   ],
   "source": [
    "maximas.sort_values('Change %', ascending=False).rename(columns={'Date': 'Data', 'Currency_Name': 'Nome da criptomoeda', 'Change %': 'Variação %'})"
   ]
  },
  {
   "cell_type": "code",
   "execution_count": 14,
   "id": "0c82040d-c64b-4c96-9dac-2143abeb63e8",
   "metadata": {},
   "outputs": [
    {
     "data": {
      "text/plain": [
       "10"
      ]
     },
     "execution_count": 14,
     "metadata": {},
     "output_type": "execute_result"
    }
   ],
   "source": [
    "date_filter = maximas['Date'] == '2021-05-24'\n",
    "maximas[date_filter]['Currency_Name'].count()"
   ]
  },
  {
   "cell_type": "code",
   "execution_count": 15,
   "id": "f082d5a3-1e1c-445e-a1b6-3d550664aa67",
   "metadata": {},
   "outputs": [
    {
     "data": {
      "text/plain": [
       "93"
      ]
     },
     "execution_count": 15,
     "metadata": {},
     "output_type": "execute_result"
    },
    {
     "data": {
      "image/png": "[encoded data removed]",
      "text/plain": [
       "<Figure size 1080x360 with 1 Axes>"
      ]
     },
     "metadata": {
      "needs_background": "light"
     },
     "output_type": "display_data"
    }
   ],
   "source": [
    "X = maximas['Date'].to_list()\n",
    "Y = maximas['Change %'].to_list()\n",
    "annotations = maximas['Currency_Name'].to_list()\n",
    "\n",
    "plt.figure(figsize=(15, 5))\n",
    "plt.xticks(rotation=45)\n",
    "plt.scatter(X, Y)\n",
    "plt.title(\"Espalhamento 1 - valorizações máximas de maio de 2021\", fontdict=plot_title_fontdict)\n",
    "texts = [plt.text(X[i], Y[i], annotations[i]) for i in range(len(X))]\n",
    "adjust_text(texts, arrowprops=dict(arrowstyle=\"-\", color='k', lw=0.5))"
   ]
  },
  {
   "cell_type": "markdown",
   "id": "c8a05a9f-251d-47c3-af6a-96522e0d9252",
   "metadata": {},
   "source": [
    "Podemos observar pelo gráfico de espalhamento e pelos dados que\n",
    " * a Polygon teve a maior máxima (59,83 %), seguida pela EOS (56,18 %) e Bitcoin_Cash (52,83 %)\n",
    " * a valorização da Polygon está fortemente relacionada com um fenômeno de alta geral das criptomoedas já que a máxima dela está acompanhada pelas máximas de outras dez criptomoedas que ocorreram no mesmo dia (24 de maio)\n",
    " * as máximas da Bitcoin_Cash e da EOS são indícios de grande valorização, nesse período, das criptomoedas em geral, apesar de não fazerem diretamente parte do fenômeno de valorização ocorrido no dia 24\n",
    " * Binance_USD teve a menor máxima valorização, com 0,16 %"
   ]
  },
  {
   "cell_type": "markdown",
   "id": "051a9c0f-e294-4c47-8573-808edb11786c",
   "metadata": {
    "tags": []
   },
   "source": [
    "### Em qual período as máximas desvalorizações se concentram?"
   ]
  },
  {
   "cell_type": "code",
   "execution_count": 16,
   "id": "42a71cc1-9d0d-46a1-a9d0-bf30f0bce714",
   "metadata": {},
   "outputs": [
    {
     "data": {
      "text/plain": [
       "<AxesSubplot:title={'center':'Histograma 3 - desvalorizações máximas de todo período'}>"
      ]
     },
     "execution_count": 16,
     "metadata": {},
     "output_type": "execute_result"
    },
    {
     "data": {
      "image/png": "[encoded data removed]",
      "text/plain": [
       "<Figure size 1080x360 with 1 Axes>"
      ]
     },
     "metadata": {
      "needs_background": "light"
     },
     "output_type": "display_data"
    }
   ],
   "source": [
    "plt.title(\"Histograma 3 - desvalorizações máximas de todo período\", fontdict=plot_title_fontdict)\n",
    "df.loc[change_by_currency.idxmin(), 'Date'].hist(xrot=45, bins=100, figsize=(15, 5))"
   ]
  },
  {
   "cell_type": "markdown",
   "id": "aa2197d5-8ada-4be1-a930-196e8430b8cf",
   "metadata": {},
   "source": [
    "Podemos perceber que houve concentrações de máximas desvalorizações no primeiro semestre de 2020 e no ano de 2021. Primeiro vamos investigar com mais detalhes o primeiro semestre de 2020."
   ]
  },
  {
   "cell_type": "markdown",
   "id": "d3616b74-5b11-4380-8d66-cac0f47e9be6",
   "metadata": {
    "tags": []
   },
   "source": [
    "#### Máximas desvalorizações de 2020"
   ]
  },
  {
   "cell_type": "code",
   "execution_count": 17,
   "id": "3e907ffb-a4d0-4d06-896f-ede0239030c5",
   "metadata": {},
   "outputs": [],
   "source": [
    "date_filter = (df['Date'] >= '2020-01') & (df['Date'] <= '2020-07')\n",
    "grouped_change_2020 = df[date_filter].groupby('Currency_Name')['Change %']"
   ]
  },
  {
   "cell_type": "code",
   "execution_count": 18,
   "id": "5a6f909f-5420-4e9b-8457-8261c4a91140",
   "metadata": {},
   "outputs": [
    {
     "data": {
      "text/plain": [
       "<AxesSubplot:title={'center':'Histrograma 4 - desvalorizações máximas no primeiro semestre de 2020'}>"
      ]
     },
     "execution_count": 18,
     "metadata": {},
     "output_type": "execute_result"
    },
    {
     "data": {
      "image/png": "[encoded data removed]",
      "text/plain": [
       "<Figure size 1080x360 with 1 Axes>"
      ]
     },
     "metadata": {
      "needs_background": "light"
     },
     "output_type": "display_data"
    }
   ],
   "source": [
    "plt.title(\"Histrograma 4 - desvalorizações máximas no primeiro semestre de 2020\", fontdict=plot_title_fontdict)\n",
    "df.loc[grouped_change_2020.idxmin(), 'Date'].hist(xrot=45, bins=100, figsize=(15, 5))"
   ]
  },
  {
   "cell_type": "code",
   "execution_count": 19,
   "id": "a480acb4-1be6-4039-a7f2-3445b384a387",
   "metadata": {},
   "outputs": [],
   "source": [
    "minimas_2020 = df.loc[grouped_change_2020.idxmin(), ['Date', 'Currency_Name', 'Change %']]\n",
    "date_filter = ('2020-03' <= minimas_2020['Date']) & (minimas_2020['Date'] <= '2020-04')\n",
    "minimas_2020 = minimas_2020[date_filter]"
   ]
  },
  {
   "cell_type": "code",
   "execution_count": 20,
   "id": "6ca3dc49-e3c8-46c5-a8f0-b764799929d4",
   "metadata": {},
   "outputs": [
    {
     "data": {
      "text/plain": [
       "array(['2020-03-12T00:00:00.000000000', '2020-03-13T00:00:00.000000000'],\n",
       "      dtype='datetime64[ns]')"
      ]
     },
     "execution_count": 20,
     "metadata": {},
     "output_type": "execute_result"
    }
   ],
   "source": [
    "minimas_2020['Date'].unique()"
   ]
  },
  {
   "cell_type": "code",
   "execution_count": 21,
   "id": "43787f69-e377-41cd-87f2-04ddb8c27d4c",
   "metadata": {},
   "outputs": [
    {
     "data": {
      "text/plain": [
       "30"
      ]
     },
     "execution_count": 21,
     "metadata": {},
     "output_type": "execute_result"
    }
   ],
   "source": [
    "date_filter = minimas_2020['Date'] == '2020-03-12'\n",
    "minimas_2020[date_filter]['Currency_Name'].count()"
   ]
  },
  {
   "cell_type": "code",
   "execution_count": 22,
   "id": "b60734bd-e903-44ce-8c86-de94f810d104",
   "metadata": {},
   "outputs": [
    {
     "data": {
      "text/html": [
       "<div>\n",
       "<style scoped>\n",
       "    .dataframe tbody tr th:only-of-type {\n",
       "        vertical-align: middle;\n",
       "    }\n",
       "\n",
       "    .dataframe tbody tr th {\n",
       "        vertical-align: top;\n",
       "    }\n",
       "\n",
       "    .dataframe thead th {\n",
       "        text-align: right;\n",
       "    }\n",
       "</style>\n",
       "<table border=\"1\" class=\"dataframe\">\n",
       "  <thead>\n",
       "    <tr style=\"text-align: right;\">\n",
       "      <th></th>\n",
       "      <th>Data</th>\n",
       "      <th>Nome da criptomoeda</th>\n",
       "      <th>Variação %</th>\n",
       "    </tr>\n",
       "  </thead>\n",
       "  <tbody>\n",
       "    <tr>\n",
       "      <th>33535</th>\n",
       "      <td>2020-03-12</td>\n",
       "      <td>Maker</td>\n",
       "      <td>-60.03</td>\n",
       "    </tr>\n",
       "    <tr>\n",
       "      <th>38698</th>\n",
       "      <td>2020-03-12</td>\n",
       "      <td>Polygon</td>\n",
       "      <td>-51.94</td>\n",
       "    </tr>\n",
       "    <tr>\n",
       "      <th>1506</th>\n",
       "      <td>2020-03-12</td>\n",
       "      <td>Algorand</td>\n",
       "      <td>-50.11</td>\n",
       "    </tr>\n",
       "    <tr>\n",
       "      <th>49159</th>\n",
       "      <td>2020-03-12</td>\n",
       "      <td>VeChain</td>\n",
       "      <td>-48.75</td>\n",
       "    </tr>\n",
       "    <tr>\n",
       "      <th>45081</th>\n",
       "      <td>2020-03-12</td>\n",
       "      <td>THETA</td>\n",
       "      <td>-47.73</td>\n",
       "    </tr>\n",
       "    <tr>\n",
       "      <th>13380</th>\n",
       "      <td>2020-03-12</td>\n",
       "      <td>Chainlink</td>\n",
       "      <td>-47.20</td>\n",
       "    </tr>\n",
       "    <tr>\n",
       "      <th>9957</th>\n",
       "      <td>2020-03-12</td>\n",
       "      <td>Bitcoin_SV</td>\n",
       "      <td>-46.35</td>\n",
       "    </tr>\n",
       "    <tr>\n",
       "      <th>14213</th>\n",
       "      <td>2020-03-12</td>\n",
       "      <td>Cosmos</td>\n",
       "      <td>-45.91</td>\n",
       "    </tr>\n",
       "    <tr>\n",
       "      <th>43786</th>\n",
       "      <td>2020-03-12</td>\n",
       "      <td>Tezos</td>\n",
       "      <td>-45.91</td>\n",
       "    </tr>\n",
       "    <tr>\n",
       "      <th>8947</th>\n",
       "      <td>2020-03-12</td>\n",
       "      <td>Bitcoin_Cash</td>\n",
       "      <td>-44.99</td>\n",
       "    </tr>\n",
       "    <tr>\n",
       "      <th>23547</th>\n",
       "      <td>2020-03-12</td>\n",
       "      <td>Ethereum</td>\n",
       "      <td>-44.55</td>\n",
       "    </tr>\n",
       "    <tr>\n",
       "      <th>3163</th>\n",
       "      <td>2020-03-12</td>\n",
       "      <td>Binance_Coin</td>\n",
       "      <td>-44.08</td>\n",
       "    </tr>\n",
       "    <tr>\n",
       "      <th>29194</th>\n",
       "      <td>2020-03-12</td>\n",
       "      <td>IOTA</td>\n",
       "      <td>-43.53</td>\n",
       "    </tr>\n",
       "    <tr>\n",
       "      <th>46461</th>\n",
       "      <td>2020-03-12</td>\n",
       "      <td>Tron</td>\n",
       "      <td>-43.49</td>\n",
       "    </tr>\n",
       "    <tr>\n",
       "      <th>10747</th>\n",
       "      <td>2020-03-12</td>\n",
       "      <td>BitTorrent</td>\n",
       "      <td>-43.48</td>\n",
       "    </tr>\n",
       "    <tr>\n",
       "      <th>25401</th>\n",
       "      <td>2020-03-12</td>\n",
       "      <td>Ethereum_Classic</td>\n",
       "      <td>-42.96</td>\n",
       "    </tr>\n",
       "    <tr>\n",
       "      <th>21553</th>\n",
       "      <td>2020-03-12</td>\n",
       "      <td>EOS</td>\n",
       "      <td>-41.99</td>\n",
       "    </tr>\n",
       "    <tr>\n",
       "      <th>12080</th>\n",
       "      <td>2020-03-12</td>\n",
       "      <td>Cardano</td>\n",
       "      <td>-41.49</td>\n",
       "    </tr>\n",
       "    <tr>\n",
       "      <th>35934</th>\n",
       "      <td>2020-03-12</td>\n",
       "      <td>Monero</td>\n",
       "      <td>-40.87</td>\n",
       "    </tr>\n",
       "    <tr>\n",
       "      <th>15170</th>\n",
       "      <td>2020-03-12</td>\n",
       "      <td>Crypto.com_Coin</td>\n",
       "      <td>-40.81</td>\n",
       "    </tr>\n",
       "    <tr>\n",
       "      <th>36964</th>\n",
       "      <td>2020-03-12</td>\n",
       "      <td>Neo</td>\n",
       "      <td>-40.04</td>\n",
       "    </tr>\n",
       "    <tr>\n",
       "      <th>50220</th>\n",
       "      <td>2020-03-12</td>\n",
       "      <td>Waves</td>\n",
       "      <td>-39.98</td>\n",
       "    </tr>\n",
       "    <tr>\n",
       "      <th>18102</th>\n",
       "      <td>2020-03-12</td>\n",
       "      <td>Dash</td>\n",
       "      <td>-39.74</td>\n",
       "    </tr>\n",
       "    <tr>\n",
       "      <th>7343</th>\n",
       "      <td>2020-03-12</td>\n",
       "      <td>Bitcoin</td>\n",
       "      <td>-39.18</td>\n",
       "    </tr>\n",
       "    <tr>\n",
       "      <th>32227</th>\n",
       "      <td>2020-03-12</td>\n",
       "      <td>Litecoin</td>\n",
       "      <td>-38.54</td>\n",
       "    </tr>\n",
       "    <tr>\n",
       "      <th>772</th>\n",
       "      <td>2020-03-12</td>\n",
       "      <td>Aave</td>\n",
       "      <td>-38.08</td>\n",
       "    </tr>\n",
       "    <tr>\n",
       "      <th>40893</th>\n",
       "      <td>2020-03-12</td>\n",
       "      <td>Stellar</td>\n",
       "      <td>-35.62</td>\n",
       "    </tr>\n",
       "    <tr>\n",
       "      <th>51958</th>\n",
       "      <td>2020-03-12</td>\n",
       "      <td>XPR</td>\n",
       "      <td>-34.64</td>\n",
       "    </tr>\n",
       "    <tr>\n",
       "      <th>25986</th>\n",
       "      <td>2020-03-12</td>\n",
       "      <td>Filecoin</td>\n",
       "      <td>-32.00</td>\n",
       "    </tr>\n",
       "    <tr>\n",
       "      <th>27314</th>\n",
       "      <td>2020-03-12</td>\n",
       "      <td>FTX_Token</td>\n",
       "      <td>-13.41</td>\n",
       "    </tr>\n",
       "    <tr>\n",
       "      <th>16468</th>\n",
       "      <td>2020-03-13</td>\n",
       "      <td>Dai</td>\n",
       "      <td>-5.72</td>\n",
       "    </tr>\n",
       "    <tr>\n",
       "      <th>47813</th>\n",
       "      <td>2020-03-13</td>\n",
       "      <td>USD_Coin</td>\n",
       "      <td>-0.55</td>\n",
       "    </tr>\n",
       "  </tbody>\n",
       "</table>\n",
       "</div>"
      ],
      "text/plain": [
       "            Data Nome da criptomoeda  Variação %\n",
       "33535 2020-03-12               Maker      -60.03\n",
       "38698 2020-03-12             Polygon      -51.94\n",
       "1506  2020-03-12            Algorand      -50.11\n",
       "49159 2020-03-12             VeChain      -48.75\n",
       "45081 2020-03-12               THETA      -47.73\n",
       "13380 2020-03-12           Chainlink      -47.20\n",
       "9957  2020-03-12          Bitcoin_SV      -46.35\n",
       "14213 2020-03-12              Cosmos      -45.91\n",
       "43786 2020-03-12               Tezos      -45.91\n",
       "8947  2020-03-12        Bitcoin_Cash      -44.99\n",
       "23547 2020-03-12            Ethereum      -44.55\n",
       "3163  2020-03-12        Binance_Coin      -44.08\n",
       "29194 2020-03-12                IOTA      -43.53\n",
       "46461 2020-03-12                Tron      -43.49\n",
       "10747 2020-03-12          BitTorrent      -43.48\n",
       "25401 2020-03-12    Ethereum_Classic      -42.96\n",
       "21553 2020-03-12                 EOS      -41.99\n",
       "12080 2020-03-12             Cardano      -41.49\n",
       "35934 2020-03-12              Monero      -40.87\n",
       "15170 2020-03-12     Crypto.com_Coin      -40.81\n",
       "36964 2020-03-12                 Neo      -40.04\n",
       "50220 2020-03-12               Waves      -39.98\n",
       "18102 2020-03-12                Dash      -39.74\n",
       "7343  2020-03-12             Bitcoin      -39.18\n",
       "32227 2020-03-12            Litecoin      -38.54\n",
       "772   2020-03-12                Aave      -38.08\n",
       "40893 2020-03-12             Stellar      -35.62\n",
       "51958 2020-03-12                 XPR      -34.64\n",
       "25986 2020-03-12            Filecoin      -32.00\n",
       "27314 2020-03-12           FTX_Token      -13.41\n",
       "16468 2020-03-13                 Dai       -5.72\n",
       "47813 2020-03-13            USD_Coin       -0.55"
      ]
     },
     "execution_count": 22,
     "metadata": {},
     "output_type": "execute_result"
    }
   ],
   "source": [
    "minimas_2020.sort_values('Change %').rename(columns={'Date': 'Data', 'Currency_Name': 'Nome da criptomoeda', 'Change %': 'Variação %'})"
   ]
  },
  {
   "cell_type": "markdown",
   "id": "3dac0123-1a95-4976-aca2-64834b680079",
   "metadata": {},
   "source": [
    "Com o Histograma 4 e os dados exibidos podemos concluir que\n",
    " * a grande campeã de desvalorização máxima no primeiro semestre de 2020 é a Maker (-60,03 %)\n",
    " * houve um fenômeno de desvalorização concentrada das criptomoedas no dia 12 de março de 2020\n",
    " * Polygon, EOS e Bitcoin_Cash figuram entre as criptomoedas que sofreram as maiores mínimas do mês, com -51,94 %, -41,99 % e -44,99 % respectivamente\n",
    " * Bitcoin tece uma máxima desvalorização de -39.18 % no primeiro semestre de 2020"
   ]
  },
  {
   "cell_type": "markdown",
   "id": "117663ad-fc84-4790-9ca6-e35bf890f1cf",
   "metadata": {},
   "source": [
    "#### Máximas desvalorizações de 2021"
   ]
  },
  {
   "cell_type": "code",
   "execution_count": 23,
   "id": "b57b201f-1029-48e0-9a32-391176030ccd",
   "metadata": {},
   "outputs": [],
   "source": [
    "date_filter = (df['Date'] >= '2021') & (df['Date'] <= '2022')\n",
    "grouped_change_2021 = df[date_filter].groupby('Currency_Name')['Change %']"
   ]
  },
  {
   "cell_type": "code",
   "execution_count": 24,
   "id": "17684e4f-1339-4043-878a-493cbec2382a",
   "metadata": {},
   "outputs": [
    {
     "data": {
      "text/plain": [
       "<AxesSubplot:title={'center':'Histrograma 5 - desvalorizações máximas ao longo de 2021'}>"
      ]
     },
     "execution_count": 24,
     "metadata": {},
     "output_type": "execute_result"
    },
    {
     "data": {
      "image/png": "[encoded data removed]",
      "text/plain": [
       "<Figure size 1080x360 with 1 Axes>"
      ]
     },
     "metadata": {
      "needs_background": "light"
     },
     "output_type": "display_data"
    }
   ],
   "source": [
    "plt.title(\"Histrograma 5 - desvalorizações máximas ao longo de 2021\", fontdict=plot_title_fontdict)\n",
    "df.loc[grouped_change_2021.idxmin(), 'Date'].hist(xrot=45, bins=100, figsize=(15, 5))"
   ]
  },
  {
   "cell_type": "markdown",
   "id": "38e9b45f-3768-4252-bfc8-abb0f23f8319",
   "metadata": {},
   "source": [
    "A maior parte das máximas desvalorizações ocorreu no mês de maio"
   ]
  },
  {
   "cell_type": "code",
   "execution_count": 25,
   "id": "ba80181a-cf3a-48c0-9f98-ada510d61ebd",
   "metadata": {},
   "outputs": [],
   "source": [
    "minimas_2021 = df.loc[grouped_change_2021.idxmin(), ['Date', 'Currency_Name', 'Change %']]\n",
    "date_filter = ('2021-05' <= minimas_2021['Date']) & (minimas_2021['Date'] <= '2021-06')\n",
    "minimas_2021 = minimas_2021[date_filter]"
   ]
  },
  {
   "cell_type": "code",
   "execution_count": 26,
   "id": "80c27f45-b4d8-482e-8877-21d049b70bad",
   "metadata": {},
   "outputs": [
    {
     "data": {
      "text/plain": [
       "array(['2021-05-19T00:00:00.000000000', '2021-05-12T00:00:00.000000000',\n",
       "       '2021-05-17T00:00:00.000000000'], dtype='datetime64[ns]')"
      ]
     },
     "execution_count": 26,
     "metadata": {},
     "output_type": "execute_result"
    }
   ],
   "source": [
    "minimas_2021['Date'].unique()"
   ]
  },
  {
   "cell_type": "code",
   "execution_count": 27,
   "id": "54d56e15-f7c0-4186-b045-863acc1fbe29",
   "metadata": {},
   "outputs": [
    {
     "data": {
      "text/plain": [
       "42"
      ]
     },
     "execution_count": 27,
     "metadata": {},
     "output_type": "execute_result"
    }
   ],
   "source": [
    "date_filter = minimas_2021['Date'] == '2021-05-19'\n",
    "minimas_2021[date_filter]['Currency_Name'].count()"
   ]
  },
  {
   "cell_type": "code",
   "execution_count": 28,
   "id": "dbed443f-89ca-4f56-811b-dd0a45fa1f75",
   "metadata": {},
   "outputs": [
    {
     "data": {
      "text/html": [
       "<div>\n",
       "<style scoped>\n",
       "    .dataframe tbody tr th:only-of-type {\n",
       "        vertical-align: middle;\n",
       "    }\n",
       "\n",
       "    .dataframe tbody tr th {\n",
       "        vertical-align: top;\n",
       "    }\n",
       "\n",
       "    .dataframe thead th {\n",
       "        text-align: right;\n",
       "    }\n",
       "</style>\n",
       "<table border=\"1\" class=\"dataframe\">\n",
       "  <thead>\n",
       "    <tr style=\"text-align: right;\">\n",
       "      <th></th>\n",
       "      <th>Data</th>\n",
       "      <th>Nome da criptomoeda</th>\n",
       "      <th>Variação %</th>\n",
       "    </tr>\n",
       "  </thead>\n",
       "  <tbody>\n",
       "    <tr>\n",
       "      <th>30043</th>\n",
       "      <td>2021-05-19</td>\n",
       "      <td>Kusama</td>\n",
       "      <td>-42.81</td>\n",
       "    </tr>\n",
       "    <tr>\n",
       "      <th>37973</th>\n",
       "      <td>2021-05-19</td>\n",
       "      <td>PancakeSwap</td>\n",
       "      <td>-42.06</td>\n",
       "    </tr>\n",
       "    <tr>\n",
       "      <th>39236</th>\n",
       "      <td>2021-05-19</td>\n",
       "      <td>SHIBA_INU</td>\n",
       "      <td>-41.90</td>\n",
       "    </tr>\n",
       "    <tr>\n",
       "      <th>36367</th>\n",
       "      <td>2021-05-19</td>\n",
       "      <td>Monero</td>\n",
       "      <td>-41.46</td>\n",
       "    </tr>\n",
       "    <tr>\n",
       "      <th>29627</th>\n",
       "      <td>2021-05-19</td>\n",
       "      <td>IOTA</td>\n",
       "      <td>-40.47</td>\n",
       "    </tr>\n",
       "    <tr>\n",
       "      <th>14646</th>\n",
       "      <td>2021-05-19</td>\n",
       "      <td>Cosmos</td>\n",
       "      <td>-39.73</td>\n",
       "    </tr>\n",
       "    <tr>\n",
       "      <th>45514</th>\n",
       "      <td>2021-05-19</td>\n",
       "      <td>THETA</td>\n",
       "      <td>-39.69</td>\n",
       "    </tr>\n",
       "    <tr>\n",
       "      <th>10390</th>\n",
       "      <td>2021-05-19</td>\n",
       "      <td>Bitcoin_SV</td>\n",
       "      <td>-39.16</td>\n",
       "    </tr>\n",
       "    <tr>\n",
       "      <th>21986</th>\n",
       "      <td>2021-05-19</td>\n",
       "      <td>EOS</td>\n",
       "      <td>-39.15</td>\n",
       "    </tr>\n",
       "    <tr>\n",
       "      <th>27990</th>\n",
       "      <td>2021-05-19</td>\n",
       "      <td>GRT</td>\n",
       "      <td>-39.08</td>\n",
       "    </tr>\n",
       "    <tr>\n",
       "      <th>38341</th>\n",
       "      <td>2021-05-19</td>\n",
       "      <td>Polkadot</td>\n",
       "      <td>-38.43</td>\n",
       "    </tr>\n",
       "    <tr>\n",
       "      <th>13813</th>\n",
       "      <td>2021-05-19</td>\n",
       "      <td>Chainlink</td>\n",
       "      <td>-37.84</td>\n",
       "    </tr>\n",
       "    <tr>\n",
       "      <th>18535</th>\n",
       "      <td>2021-05-19</td>\n",
       "      <td>Dash</td>\n",
       "      <td>-37.76</td>\n",
       "    </tr>\n",
       "    <tr>\n",
       "      <th>44219</th>\n",
       "      <td>2021-05-19</td>\n",
       "      <td>Tezos</td>\n",
       "      <td>-37.30</td>\n",
       "    </tr>\n",
       "    <tr>\n",
       "      <th>2177</th>\n",
       "      <td>2021-05-19</td>\n",
       "      <td>Avalanche</td>\n",
       "      <td>-37.20</td>\n",
       "    </tr>\n",
       "    <tr>\n",
       "      <th>36531</th>\n",
       "      <td>2021-05-19</td>\n",
       "      <td>Neo</td>\n",
       "      <td>-36.95</td>\n",
       "    </tr>\n",
       "    <tr>\n",
       "      <th>32660</th>\n",
       "      <td>2021-05-19</td>\n",
       "      <td>Litecoin</td>\n",
       "      <td>-36.51</td>\n",
       "    </tr>\n",
       "    <tr>\n",
       "      <th>39681</th>\n",
       "      <td>2021-05-19</td>\n",
       "      <td>Solana</td>\n",
       "      <td>-36.35</td>\n",
       "    </tr>\n",
       "    <tr>\n",
       "      <th>9380</th>\n",
       "      <td>2021-05-19</td>\n",
       "      <td>Bitcoin_Cash</td>\n",
       "      <td>-35.99</td>\n",
       "    </tr>\n",
       "    <tr>\n",
       "      <th>27121</th>\n",
       "      <td>2021-05-19</td>\n",
       "      <td>Filecoin</td>\n",
       "      <td>-34.71</td>\n",
       "    </tr>\n",
       "    <tr>\n",
       "      <th>49592</th>\n",
       "      <td>2021-05-19</td>\n",
       "      <td>VeChain</td>\n",
       "      <td>-34.53</td>\n",
       "    </tr>\n",
       "    <tr>\n",
       "      <th>3596</th>\n",
       "      <td>2021-05-19</td>\n",
       "      <td>Binance_Coin</td>\n",
       "      <td>-34.07</td>\n",
       "    </tr>\n",
       "    <tr>\n",
       "      <th>47186</th>\n",
       "      <td>2021-05-19</td>\n",
       "      <td>Uniswap</td>\n",
       "      <td>-33.80</td>\n",
       "    </tr>\n",
       "    <tr>\n",
       "      <th>1177</th>\n",
       "      <td>2021-05-19</td>\n",
       "      <td>Aave</td>\n",
       "      <td>-33.79</td>\n",
       "    </tr>\n",
       "    <tr>\n",
       "      <th>39131</th>\n",
       "      <td>2021-05-19</td>\n",
       "      <td>Polygon</td>\n",
       "      <td>-33.76</td>\n",
       "    </tr>\n",
       "    <tr>\n",
       "      <th>49787</th>\n",
       "      <td>2021-05-19</td>\n",
       "      <td>Waves</td>\n",
       "      <td>-33.46</td>\n",
       "    </tr>\n",
       "    <tr>\n",
       "      <th>51525</th>\n",
       "      <td>2021-05-19</td>\n",
       "      <td>XPR</td>\n",
       "      <td>-33.25</td>\n",
       "    </tr>\n",
       "    <tr>\n",
       "      <th>20471</th>\n",
       "      <td>2021-05-19</td>\n",
       "      <td>Elrond</td>\n",
       "      <td>-33.24</td>\n",
       "    </tr>\n",
       "    <tr>\n",
       "      <th>25834</th>\n",
       "      <td>2021-05-19</td>\n",
       "      <td>Ethereum_Classic</td>\n",
       "      <td>-32.68</td>\n",
       "    </tr>\n",
       "    <tr>\n",
       "      <th>46894</th>\n",
       "      <td>2021-05-19</td>\n",
       "      <td>Tron</td>\n",
       "      <td>-32.25</td>\n",
       "    </tr>\n",
       "    <tr>\n",
       "      <th>11180</th>\n",
       "      <td>2021-05-19</td>\n",
       "      <td>BitTorrent</td>\n",
       "      <td>-31.85</td>\n",
       "    </tr>\n",
       "    <tr>\n",
       "      <th>1934</th>\n",
       "      <td>2021-05-19</td>\n",
       "      <td>Algorand</td>\n",
       "      <td>-31.67</td>\n",
       "    </tr>\n",
       "    <tr>\n",
       "      <th>41326</th>\n",
       "      <td>2021-05-19</td>\n",
       "      <td>Stellar</td>\n",
       "      <td>-30.52</td>\n",
       "    </tr>\n",
       "    <tr>\n",
       "      <th>27747</th>\n",
       "      <td>2021-05-19</td>\n",
       "      <td>FTX_Token</td>\n",
       "      <td>-27.91</td>\n",
       "    </tr>\n",
       "    <tr>\n",
       "      <th>23980</th>\n",
       "      <td>2021-05-19</td>\n",
       "      <td>Ethereum</td>\n",
       "      <td>-27.89</td>\n",
       "    </tr>\n",
       "    <tr>\n",
       "      <th>29751</th>\n",
       "      <td>2021-05-19</td>\n",
       "      <td>Klaytn</td>\n",
       "      <td>-26.95</td>\n",
       "    </tr>\n",
       "    <tr>\n",
       "      <th>12513</th>\n",
       "      <td>2021-05-19</td>\n",
       "      <td>Cardano</td>\n",
       "      <td>-26.62</td>\n",
       "    </tr>\n",
       "    <tr>\n",
       "      <th>28094</th>\n",
       "      <td>2021-05-19</td>\n",
       "      <td>ICP</td>\n",
       "      <td>-25.04</td>\n",
       "    </tr>\n",
       "    <tr>\n",
       "      <th>33968</th>\n",
       "      <td>2021-05-19</td>\n",
       "      <td>Maker</td>\n",
       "      <td>-24.99</td>\n",
       "    </tr>\n",
       "    <tr>\n",
       "      <th>7978</th>\n",
       "      <td>2021-05-12</td>\n",
       "      <td>Bitcoin_BEP2</td>\n",
       "      <td>-18.22</td>\n",
       "    </tr>\n",
       "    <tr>\n",
       "      <th>7776</th>\n",
       "      <td>2021-05-19</td>\n",
       "      <td>Bitcoin</td>\n",
       "      <td>-14.40</td>\n",
       "    </tr>\n",
       "    <tr>\n",
       "      <th>51330</th>\n",
       "      <td>2021-05-19</td>\n",
       "      <td>WBTC</td>\n",
       "      <td>-14.29</td>\n",
       "    </tr>\n",
       "    <tr>\n",
       "      <th>16898</th>\n",
       "      <td>2021-05-17</td>\n",
       "      <td>Dai</td>\n",
       "      <td>-0.43</td>\n",
       "    </tr>\n",
       "    <tr>\n",
       "      <th>3791</th>\n",
       "      <td>2021-05-19</td>\n",
       "      <td>Binance_USD</td>\n",
       "      <td>-0.12</td>\n",
       "    </tr>\n",
       "  </tbody>\n",
       "</table>\n",
       "</div>"
      ],
      "text/plain": [
       "            Data Nome da criptomoeda  Variação %\n",
       "30043 2021-05-19              Kusama      -42.81\n",
       "37973 2021-05-19         PancakeSwap      -42.06\n",
       "39236 2021-05-19           SHIBA_INU      -41.90\n",
       "36367 2021-05-19              Monero      -41.46\n",
       "29627 2021-05-19                IOTA      -40.47\n",
       "14646 2021-05-19              Cosmos      -39.73\n",
       "45514 2021-05-19               THETA      -39.69\n",
       "10390 2021-05-19          Bitcoin_SV      -39.16\n",
       "21986 2021-05-19                 EOS      -39.15\n",
       "27990 2021-05-19                 GRT      -39.08\n",
       "38341 2021-05-19            Polkadot      -38.43\n",
       "13813 2021-05-19           Chainlink      -37.84\n",
       "18535 2021-05-19                Dash      -37.76\n",
       "44219 2021-05-19               Tezos      -37.30\n",
       "2177  2021-05-19           Avalanche      -37.20\n",
       "36531 2021-05-19                 Neo      -36.95\n",
       "32660 2021-05-19            Litecoin      -36.51\n",
       "39681 2021-05-19              Solana      -36.35\n",
       "9380  2021-05-19        Bitcoin_Cash      -35.99\n",
       "27121 2021-05-19            Filecoin      -34.71\n",
       "49592 2021-05-19             VeChain      -34.53\n",
       "3596  2021-05-19        Binance_Coin      -34.07\n",
       "47186 2021-05-19             Uniswap      -33.80\n",
       "1177  2021-05-19                Aave      -33.79\n",
       "39131 2021-05-19             Polygon      -33.76\n",
       "49787 2021-05-19               Waves      -33.46\n",
       "51525 2021-05-19                 XPR      -33.25\n",
       "20471 2021-05-19              Elrond      -33.24\n",
       "25834 2021-05-19    Ethereum_Classic      -32.68\n",
       "46894 2021-05-19                Tron      -32.25\n",
       "11180 2021-05-19          BitTorrent      -31.85\n",
       "1934  2021-05-19            Algorand      -31.67\n",
       "41326 2021-05-19             Stellar      -30.52\n",
       "27747 2021-05-19           FTX_Token      -27.91\n",
       "23980 2021-05-19            Ethereum      -27.89\n",
       "29751 2021-05-19              Klaytn      -26.95\n",
       "12513 2021-05-19             Cardano      -26.62\n",
       "28094 2021-05-19                 ICP      -25.04\n",
       "33968 2021-05-19               Maker      -24.99\n",
       "7978  2021-05-12        Bitcoin_BEP2      -18.22\n",
       "7776  2021-05-19             Bitcoin      -14.40\n",
       "51330 2021-05-19                WBTC      -14.29\n",
       "16898 2021-05-17                 Dai       -0.43\n",
       "3791  2021-05-19         Binance_USD       -0.12"
      ]
     },
     "execution_count": 28,
     "metadata": {},
     "output_type": "execute_result"
    }
   ],
   "source": [
    "minimas_2021.sort_values('Change %').rename(columns={'Date': 'Data', 'Currency_Name': 'Nome da criptomoeda', 'Change %': 'Variação %'})"
   ]
  },
  {
   "cell_type": "markdown",
   "id": "ea54b8d5-3ac9-4b9a-9f61-7e048887f319",
   "metadata": {
    "tags": []
   },
   "source": [
    "Considerando os dados, podemos concluir que:\n",
    " * as máximas desvalorizações ocorreram em conjunto, com a diferença entre a campeã em desvalorização e a décima colocada sendo de 3,73 % e a diferença entre duas posições subjacentes em torno de um por cento\n",
    " * a esmagadora maioria das máximas desvalorizações ocorreu no dia 19 de maio de 2021\n",
    " * considerando os últimos argumentos, podemos dizer que as desvalorizações do mês de maio de 2021 estão fortemente correlacionadas\n",
    " * em maio de 2021, Maker não figura entre as maiores máximas desvalorizações, com uma variação de -24,99 %; Bitcoin_Cash e Polygon tiveram uma máxima desvalorização de -35,99 % e -33,76 % respectivamente; EOS terminou entre as dez maiores desvalorizações com -39,15 %; Elrond teve uma máxima desvalorização de -33.24 %\n",
    " * Binance_USD teve a menor máxima desvalorização, -0,12 %\n",
    " * Bitcoin teve uma máxima desvalorização relativamente baixa, de -14,40 %"
   ]
  },
  {
   "cell_type": "markdown",
   "id": "736ca885-9cd7-41d3-a293-7d836c42e722",
   "metadata": {
    "tags": []
   },
   "source": [
    "## Qual a volatilidade de cada moeda?"
   ]
  },
  {
   "cell_type": "markdown",
   "id": "af03cade-c408-4bf9-ba1e-efa2dc24d8db",
   "metadata": {},
   "source": [
    "Nessa discussão, considera-se que a volatilidade é o desvio padrão da rentabilidade histórica."
   ]
  },
  {
   "cell_type": "code",
   "execution_count": 29,
   "id": "0ec898bd-2736-425b-a596-40f082982bf3",
   "metadata": {},
   "outputs": [
    {
     "data": {
      "text/plain": [
       "Text(0.5, 1.0, 'Número de criptomoedas ao longo dos anos')"
      ]
     },
     "execution_count": 29,
     "metadata": {},
     "output_type": "execute_result"
    },
    {
     "data": {
      "image/png": "[encoded data removed]",
      "text/plain": [
       "<Figure size 432x288 with 1 Axes>"
      ]
     },
     "metadata": {
      "needs_background": "light"
     },
     "output_type": "display_data"
    }
   ],
   "source": [
    "# df.loc[df['Date'] == '2021-08-24', ['Currency_Name', 'Price']]\n",
    "df[['Currency_Name', 'Date']].rename(columns={'Currency_Name': 'Criptomoedas'}).groupby('Date').count().plot()\n",
    "plt.title('Número de criptomoedas ao longo dos anos', fontdict=plot_title_fontdict)"
   ]
  },
  {
   "cell_type": "markdown",
   "id": "13376231-5acf-4ffa-ac84-54f502b5343a",
   "metadata": {},
   "source": [
    "Considerando que a maior parte das criptomoedas é bastante nova (menos de 10 anos) a medida e a comparação das volatilidades pode ficar comprometida."
   ]
  },
  {
   "cell_type": "code",
   "execution_count": 30,
   "id": "22d54b7f-1648-41ac-999d-e7f599b7fd12",
   "metadata": {},
   "outputs": [
    {
     "data": {
      "text/plain": [
       "Volatilidade (%)\n",
       "Elrond              2159.23\n",
       "Aave                 176.11\n",
       "Dogecoin             158.09\n",
       "Axie_Infinity         15.33\n",
       "Monero                14.81\n",
       "XPR                   10.66\n",
       "ICP                   10.62\n",
       "PancakeSwap           10.61\n",
       "Avalanche             10.48\n",
       "GRT                   10.03\n",
       "SHIBA_INU              9.72\n",
       "Solana                 9.54\n",
       "Polygon                9.14\n",
       "Stellar                8.92\n",
       "Tron                   8.90\n",
       "Bitcoin_SV             8.90\n",
       "Kusama                 8.68\n",
       "Uniswap                8.65\n",
       "VeChain                8.65\n",
       "EOS                    8.54\n",
       "Maker                  8.30\n",
       "Polkadot               8.12\n",
       "THETA                  7.81\n",
       "Bitcoin                7.74\n",
       "BitTorrent             7.69\n",
       "Bitcoin_Cash           7.67\n",
       "Klaytn                 7.60\n",
       "Crypto.com_Coin        7.58\n",
       "Bitcoin_BEP2           7.51\n",
       "Chainlink              7.45\n",
       "IOTA                   7.28\n",
       "Neo                    7.24\n",
       "Dash                   7.22\n",
       "Filecoin               7.20\n",
       "Algorand               7.19\n",
       "Ethereum_Classic       6.97\n",
       "Waves                  6.91\n",
       "Cosmos                 6.89\n",
       "Binance_Coin           6.79\n",
       "Tezos                  6.67\n",
       "Litecoin               6.47\n",
       "Cardano                6.46\n",
       "Ethereum               5.77\n",
       "FTX_Token              5.07\n",
       "WBTC                   4.42\n",
       "LEO                    2.94\n",
       "USD_Coin               1.07\n",
       "Dai                    0.86\n",
       "Tether                 0.51\n",
       "Binance_USD            0.03\n",
       "Name: Change %, dtype: float64"
      ]
     },
     "execution_count": 30,
     "metadata": {},
     "output_type": "execute_result"
    }
   ],
   "source": [
    "df.rename(columns={'Currency_Name': 'Volatilidade (%)'}).groupby('Volatilidade (%)')['Change %'].std().sort_values(ascending=False).round(decimals=2)"
   ]
  },
  {
   "cell_type": "markdown",
   "id": "259917b7-d6d7-4adb-8dc6-aa10e7c77978",
   "metadata": {},
   "source": [
    "Como podemos perceber,\n",
    " * Elrond é a criptomoeda mais volátil, com 2159,23 %\n",
    " * Polygon fica na marca dos 9,14 %. EOS e Maker ocupam posições subjacentes, com 8,54 % e 8,30 % respectivamente. Bitcoin_Cash fica com 7,67 %\n",
    " * Binance_USD é a criptomoeda mais estável, com 0,03 %\n",
    " * Bitcoin tem 7,74 % de volatilidade"
   ]
  },
  {
   "cell_type": "markdown",
   "id": "f1000eff-78e5-4509-aea2-e2b6b2366c03",
   "metadata": {
    "tags": []
   },
   "source": [
    "## Qual moeda rendeu mais?"
   ]
  },
  {
   "cell_type": "code",
   "execution_count": 31,
   "id": "d2ecee3b-f409-4c68-b1e8-340b4ba1828e",
   "metadata": {},
   "outputs": [
    {
     "data": {
      "text/plain": [
       "Valorização (USD)\n",
       "Bitcoin             152827.40\n",
       "Elrond                7466.02\n",
       "Aave                  3853.13\n",
       "Monero                1027.55\n",
       "Ethereum               297.24\n",
       "Binance_Coin           248.71\n",
       "Stellar                182.36\n",
       "Solana                 132.99\n",
       "Dogecoin               109.94\n",
       "Polygon                 88.66\n",
       "XPR                     82.05\n",
       "Chainlink               57.53\n",
       "THETA                   55.79\n",
       "Litecoin                46.64\n",
       "Tron                    42.08\n",
       "Ethereum_Classic        41.84\n",
       "FTX_Token               24.29\n",
       "Avalanche               15.87\n",
       "Uniswap                 12.96\n",
       "Kusama                  10.57\n",
       "Polkadot                 9.46\n",
       "Crypto.com_Coin          9.03\n",
       "Dash                     5.64\n",
       "Cosmos                   5.26\n",
       "Cardano                  4.91\n",
       "EOS                      4.82\n",
       "Waves                    4.81\n",
       "PancakeSwap              3.73\n",
       "BitTorrent               3.57\n",
       "Axie_Infinity            3.38\n",
       "Filecoin                 3.10\n",
       "WBTC                     2.78\n",
       "GRT                      2.41\n",
       "IOTA                     1.96\n",
       "Algorand                 1.90\n",
       "Bitcoin_Cash             1.68\n",
       "LEO                      1.61\n",
       "Bitcoin_SV               1.54\n",
       "Tezos                    1.28\n",
       "Tether                   1.01\n",
       "Dai                      1.00\n",
       "Binance_USD              1.00\n",
       "USD_Coin                 0.98\n",
       "Neo                      0.97\n",
       "Bitcoin_BEP2             0.97\n",
       "Klaytn                   0.87\n",
       "VeChain                  0.47\n",
       "SHIBA_INU                0.26\n",
       "ICP                      0.25\n",
       "Maker                    0.00\n",
       "Name: Change %, dtype: float64"
      ]
     },
     "execution_count": 31,
     "metadata": {},
     "output_type": "execute_result"
    }
   ],
   "source": [
    "def juros(serie):\n",
    "    array = serie.to_list()\n",
    "    r = 1 + array[0] / 100\n",
    "    for i in range(1, len(array)):\n",
    "        r = (1 + array[i] / 100) * r\n",
    "    return r\n",
    "\n",
    "df.rename(columns={'Currency_Name': 'Valorização (USD)'}).groupby('Valorização (USD)')['Change %'].aggregate(juros).sort_values(ascending=False).round(decimals=2)"
   ]
  },
  {
   "cell_type": "markdown",
   "id": "aaba18a8-df5c-4e0d-9f08-88290d778a94",
   "metadata": {},
   "source": [
    "De acordo com os dados, se investíssemos um dólar em Bitcoin ou Elrond, teríamos o maior montante, de \\\\$ 152.827,40 e $ 7.466,02 respectivamente. Se o investimento fosse em Maker, perderíamos todo o capital. Com Binance_USD, estaríamos com o mesmo montante. "
   ]
  }
 ],
 "metadata": {
  "kernelspec": {
   "display_name": "Python 3 (ipykernel)",
   "language": "python",
   "name": "python3"
  },
  "language_info": {
   "codemirror_mode": {
    "name": "ipython",
    "version": 3
   },
   "file_extension": ".py",
   "mimetype": "text/x-python",
   "name": "python",
   "nbconvert_exporter": "python",
   "pygments_lexer": "ipython3",
   "version": "3.7.3"
  }
 },
 "nbformat": 4,
 "nbformat_minor": 5
}
